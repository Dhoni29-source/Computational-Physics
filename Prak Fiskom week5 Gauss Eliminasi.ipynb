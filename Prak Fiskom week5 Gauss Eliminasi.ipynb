{
 "cells": [
  {
   "cell_type": "code",
   "execution_count": 27,
   "metadata": {},
   "outputs": [
    {
     "name": "stdout",
     "output_type": "stream",
     "text": [
      "[[ 2.   1.  -1. ]\n",
      " [ 0.   0.5  0.5]\n",
      " [ 0.   0.  -1. ]]\n",
      "[[8.]\n",
      " [1.]\n",
      " [1.]]\n"
     ]
    }
   ],
   "source": [
    "import numpy as np \n",
    "a = [[2.0,1.0,-1.0],[-3.0,-1.0,2.0],[-2.0,1.0,2.0]]\n",
    "b = [[8.0],[-11.0],[-3.0]]\n",
    "\n",
    "a = np.array(a)\n",
    "b = np.array(b)\n",
    "\n",
    "lam = a[1][0]/a[0][0]\n",
    "a[1][0:3] = a[1][0:3] - lam*a[0][0:3]\n",
    "b[1] = b[1] - lam*b[0]\n",
    "\n",
    "lam = a[2][0]/a[0][0]\n",
    "a[2][0:3] = a[2][0:3] - lam*a[0][0:3]\n",
    "b[2] = b[2] - lam*b[0]\n",
    "\n",
    "lam = a[2][1]/a[1][1]\n",
    "a[2][1:3] = a[2][1:3] - lam*a[1][1:3]\n",
    "b[2] = b[2] - lam*b[1]\n",
    "\n",
    "\n",
    "print(a)\n",
    "print(b)"
   ]
  },
  {
   "cell_type": "code",
   "execution_count": 19,
   "metadata": {},
   "outputs": [
    {
     "name": "stdout",
     "output_type": "stream",
     "text": [
      "[[ 2.   1.  -1. ]\n",
      " [ 0.   0.5  0.5]\n",
      " [ 0.   0.  -1. ]]\n",
      "[[8.]\n",
      " [1.]\n",
      " [1.]]\n"
     ]
    }
   ],
   "source": [
    "import numpy as np \n",
    "a = [[2.0,1.0,-1.0],[-3.0,-1.0,2.0],[-2.0,1.0,2.0]]\n",
    "b = [[8.0],[-11.0],[-3.0]]\n",
    "\n",
    "a = np.array(a)\n",
    "b = np.array(b)\n",
    "\n",
    "# eliminasi phase\n",
    "for k in range(0,2):\n",
    "    for i in range(k+1,3):\n",
    "        lam = a[i][k]/a[k][k]\n",
    "        a[i][k:3] = a[i][k:3] - lam*a[k][k:3]\n",
    "        b[i] = b[i] - lam*b[k]\n",
    "print(a)\n",
    "print(b)\n",
    "    "
   ]
  },
  {
   "cell_type": "code",
   "execution_count": 33,
   "metadata": {},
   "outputs": [
    {
     "name": "stdout",
     "output_type": "stream",
     "text": [
      "[[ 2.]\n",
      " [ 3.]\n",
      " [-1.]]\n"
     ]
    }
   ],
   "source": [
    "a = [[2.0,1.0,-1.0],[-3.0,-1.0,2.0],[-2.0,1.0,2.0]]\n",
    "b = [[8.0],[-11.0],[-3.0]]\n",
    "\n",
    "a = np.array(a)\n",
    "b = np.array(b)\n",
    "\n",
    "def gaussElimin(a,b):\n",
    "    n = len(a)\n",
    "    for k in range(0,2):\n",
    "        for i in range(k+1,3):\n",
    "            lam = a[i][k]/a[k][k]\n",
    "            a[i][k:3] = a[i][k:3] - lam*a[k][k:3]\n",
    "            b[i] = b[i] - lam*b[k]\n",
    "    for k in range(n-1,-1,-1):\n",
    "        sumtemp = 0\n",
    "        for j in range(k+1,n):\n",
    "            sumtemp += a[k][j]*b[j]\n",
    "        b[k] = (b[k] - sumtemp)/a[k][k]\n",
    "    return b\n",
    "\n",
    "print(gaussElimin(a,b))\n",
    "\n",
    "#Atau rumus nya dapat dituliskan sbb:\n",
    "# def gaussElimin(a,b):\n",
    "#     n = len(b)\n",
    "#     # Eliminasi fase\n",
    "#     for k in range(0,n-1):\n",
    "#         for i in range(k+1,n):\n",
    "#             if a[i,k] != 0.0:\n",
    "#                 lam = a [i,k]/a[k,k]\n",
    "#                 a[i,k+1:n] = a[i,k+1:n] - lam*a[k,k+1:n]\n",
    "#                 b[i] = b[i] - lam*b[k]\n",
    "#     # Back substitution\n",
    "#     for k in range(n-1,-1,-1):\n",
    "#         b[k] = (b[k] - np.dot(a[k,k+1:n],b[k+1:n]))/a[k,k]\n",
    "#     return b\n",
    "# print(gaussElimin(a,b))"
   ]
  },
  {
   "cell_type": "code",
   "execution_count": 28,
   "metadata": {},
   "outputs": [
    {
     "name": "stdout",
     "output_type": "stream",
     "text": [
      "[[ 6 -4  1]\n",
      " [-4  6 -4]\n",
      " [ 1 -4  6]]\n",
      "[[-14]\n",
      " [ 36]\n",
      " [  6]]\n",
      "[[ 22]\n",
      " [-18]\n",
      " [  7]]\n",
      "[[11]\n",
      " [25]\n",
      " [17]]\n",
      "[[ 1]\n",
      " [-3]\n",
      " [ 3]]\n"
     ]
    }
   ],
   "source": [
    "#Masih perlu koreksi\n",
    "A = np.array([[6,-4,1],[-4,6,-4],[1,-4,6]])\n",
    "B1 = np.array([[-14],[36],[6]])\n",
    "B2 = np.array ([[22],[-18],[7]])\n",
    "\n",
    "print(A)\n",
    "print(B1)\n",
    "print(B2)\n",
    "\n",
    "X1 = gaussElimin(A,B1)\n",
    "X2 = gaussElimin(A,B2)\n",
    "\n",
    "print(X1)\n",
    "print(X2)"
   ]
  }
 ],
 "metadata": {
  "kernelspec": {
   "display_name": "Python 3",
   "language": "python",
   "name": "python3"
  },
  "language_info": {
   "codemirror_mode": {
    "name": "ipython",
    "version": 3
   },
   "file_extension": ".py",
   "mimetype": "text/x-python",
   "name": "python",
   "nbconvert_exporter": "python",
   "pygments_lexer": "ipython3",
   "version": "3.7.3"
  }
 },
 "nbformat": 4,
 "nbformat_minor": 2
}
