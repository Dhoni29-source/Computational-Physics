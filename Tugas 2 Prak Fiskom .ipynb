{
 "cells": [
  {
   "cell_type": "code",
   "execution_count": 1,
   "metadata": {},
   "outputs": [],
   "source": [
    "A = [[1,2,3],\n",
    "    [4,5,6],\n",
    "    [3,2,1]]\n",
    "\n",
    "B = [[4,5,6,],\n",
    "    [1,2,3],\n",
    "    [3,2,1]]\n"
   ]
  },
  {
   "cell_type": "code",
   "execution_count": 2,
   "metadata": {},
   "outputs": [
    {
     "name": "stdout",
     "output_type": "stream",
     "text": [
      "A =\n",
      "   1   2   3\n",
      "   4   5   6\n",
      "   3   2   1\n",
      "B =\n",
      "   4   5   6\n",
      "   1   2   3\n",
      "   3   2   1\n",
      "C = A + B\n",
      "   5   7   9\n",
      "   5   7   9\n",
      "   6   4   2\n",
      "det(C) =  0\n"
     ]
    }
   ],
   "source": [
    "print(\"A =\")\n",
    "print(\"  \", A[0][0], \" \", A[0][1], \" \", A[0][2])\n",
    "print(\"  \", A[1][0], \" \", A[1][1], \" \", A[1][2])\n",
    "print(\"  \", A[2][0], \" \", A[2][1], \" \", A[2][2])\n",
    "      \n",
    "print(\"B =\")\n",
    "print(\"  \", B[0][0], \" \", B[0][1], \" \", B[0][2])\n",
    "print(\"  \", B[1][0], \" \", B[1][1], \" \", B[1][2])\n",
    "print(\"  \", B[2][0], \" \", B[2][1], \" \", B[2][2])\n",
    "    \n",
    "C = [[0,0,0],[0,0,0],[0,0,0]]\n",
    "C[0][0] = A[0][0] + B[0][0]\n",
    "C[0][1] = A[0][1] + B[0][1]\n",
    "C[0][2] = A[0][2] + B[0][2]\n",
    "C[1][0] = A[1][0] + B[1][0]\n",
    "C[1][1] = A[1][1] + B[1][1]\n",
    "C[1][2] = A[1][2] + B[1][2]\n",
    "C[2][0] = A[2][0] + B[2][0]\n",
    "C[2][1] = A[2][1] + B[2][1]\n",
    "C[2][2] = A[2][2] + B[2][2]\n",
    "\n",
    "print(\"C = A + B\")\n",
    "print(\"  \", C[0][0], \" \", C[0][1], \" \", C[0][2])\n",
    "print(\"  \", C[1][0], \" \", C[1][1], \" \", C[1][2])\n",
    "print(\"  \", C[2][0], \" \", C[2][1], \" \", C[2][2])\n",
    "\n",
    "print(\"det(C) = \", ((C[0][0] * C[1][1] * C[2][2]) + (C[0][1] * C[1][2] * C[2][0]) + (C[0][2] * C[1][0] * C[2][1])) - ((C[2][0] * C[1][1] * C[0][2]) + (C[2][1] * C[1][2] * C[0][0]) + (C[2][2] * C[1][0] * C[0][1])))\n"
   ]
  }
 ],
 "metadata": {
  "kernelspec": {
   "display_name": "Python 3",
   "language": "python",
   "name": "python3"
  },
  "language_info": {
   "codemirror_mode": {
    "name": "ipython",
    "version": 3
   },
   "file_extension": ".py",
   "mimetype": "text/x-python",
   "name": "python",
   "nbconvert_exporter": "python",
   "pygments_lexer": "ipython3",
   "version": "3.7.3"
  }
 },
 "nbformat": 4,
 "nbformat_minor": 2
}
