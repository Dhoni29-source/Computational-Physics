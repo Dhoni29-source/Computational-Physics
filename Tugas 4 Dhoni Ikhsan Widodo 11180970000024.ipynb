{
 "cells": [
  {
   "cell_type": "markdown",
   "metadata": {},
   "source": [
    "# Dhoni Ikhsan Widodo"
   ]
  },
  {
   "cell_type": "code",
   "execution_count": 1,
   "metadata": {},
   "outputs": [],
   "source": [
    "#Import modul yang kita butuhkan untuk menghitung; penjumlahan, perkalian dan determinan matrix\n",
    "from numpy.linalg import *\n",
    "from numpy import *\n",
    "\n",
    "#Fungsi untuk menginput matrix, lalu memunculkan hasil inputnya\n",
    "def input_matrix(dim):\n",
    "    print(\"Masukkan nilai matrix :\")\n",
    "    A = []\n",
    "    for i in range (0,dim):\n",
    "        baris = []\n",
    "        for j in range(0,dim):\n",
    "            string = input('A['+str(i+1)+']['+str(j+1)+']: ')\n",
    "            baris.append(eval(string))\n",
    "        A.append(baris)\n",
    "\n",
    "    a = array(A)\n",
    "    print(\" \") \n",
    "    print(\"Matrix yang di input :\")\n",
    "    print(a)\n",
    "    return a"
   ]
  },
  {
   "cell_type": "code",
   "execution_count": 2,
   "metadata": {},
   "outputs": [
    {
     "name": "stdout",
     "output_type": "stream",
     "text": [
      "Hasil penjumlahan matrix orde 2: \n",
      "Masukkan nilai matrix :\n",
      "A[1][1]: 1\n",
      "A[1][2]: 2\n",
      "A[2][1]: 3\n",
      "A[2][2]: 4\n",
      " \n",
      "Matrix yang di input :\n",
      "[[1 2]\n",
      " [3 4]]\n",
      "Masukkan nilai matrix :\n",
      "A[1][1]: 4\n",
      "A[1][2]: 3\n",
      "A[2][1]: 2\n",
      "A[2][2]: 1\n",
      " \n",
      "Matrix yang di input :\n",
      "[[4 3]\n",
      " [2 1]]\n"
     ]
    },
    {
     "data": {
      "text/plain": [
       "array([[5, 5],\n",
       "       [5, 5]])"
      ]
     },
     "execution_count": 2,
     "metadata": {},
     "output_type": "execute_result"
    }
   ],
   "source": [
    "print(\"Hasil penjumlahan matrix orde 2: \")\n",
    "input_matrix(2) + input_matrix(2)"
   ]
  },
  {
   "cell_type": "code",
   "execution_count": 3,
   "metadata": {},
   "outputs": [
    {
     "name": "stdout",
     "output_type": "stream",
     "text": [
      "Hasil penjumlahan matrix orde 3: \n",
      "Masukkan nilai matrix :\n",
      "A[1][1]: 1\n",
      "A[1][2]: 2\n",
      "A[1][3]: 3\n",
      "A[2][1]: 4\n",
      "A[2][2]: 5\n",
      "A[2][3]: 6\n",
      "A[3][1]: 7\n",
      "A[3][2]: 8\n",
      "A[3][3]: 9\n",
      " \n",
      "Matrix yang di input :\n",
      "[[1 2 3]\n",
      " [4 5 6]\n",
      " [7 8 9]]\n",
      "Masukkan nilai matrix :\n",
      "A[1][1]: 9\n",
      "A[1][2]: 8\n",
      "A[1][3]: 7\n",
      "A[2][1]: 6\n",
      "A[2][2]: 5\n",
      "A[2][3]: 4\n",
      "A[3][1]: 3\n",
      "A[3][2]: 2\n",
      "A[3][3]: 1\n",
      " \n",
      "Matrix yang di input :\n",
      "[[9 8 7]\n",
      " [6 5 4]\n",
      " [3 2 1]]\n"
     ]
    },
    {
     "data": {
      "text/plain": [
       "array([[10, 10, 10],\n",
       "       [10, 10, 10],\n",
       "       [10, 10, 10]])"
      ]
     },
     "execution_count": 3,
     "metadata": {},
     "output_type": "execute_result"
    }
   ],
   "source": [
    "print(\"Hasil penjumlahan matrix orde 3: \")\n",
    "input_matrix(3) + input_matrix(3)"
   ]
  },
  {
   "cell_type": "code",
   "execution_count": 4,
   "metadata": {},
   "outputs": [
    {
     "name": "stdout",
     "output_type": "stream",
     "text": [
      "Hasil perkalian matrix orde 2: \n",
      "Masukkan nilai matrix :\n",
      "A[1][1]: 1\n",
      "A[1][2]: 1\n",
      "A[2][1]: 1\n",
      "A[2][2]: 1\n",
      " \n",
      "Matrix yang di input :\n",
      "[[1 1]\n",
      " [1 1]]\n",
      "Masukkan nilai matrix :\n",
      "A[1][1]: 2\n",
      "A[1][2]: 2\n",
      "A[2][1]: 2\n",
      "A[2][2]: 2\n",
      " \n",
      "Matrix yang di input :\n",
      "[[2 2]\n",
      " [2 2]]\n"
     ]
    },
    {
     "data": {
      "text/plain": [
       "array([[4, 4],\n",
       "       [4, 4]])"
      ]
     },
     "execution_count": 4,
     "metadata": {},
     "output_type": "execute_result"
    }
   ],
   "source": [
    "print(\"Hasil perkalian matrix orde 2: \")\n",
    "input_matrix(2).dot(input_matrix(2)) #Mencari hasil perkalian berdasarkan matrix yang di input, dengan dimensi matrix yaitu 2"
   ]
  },
  {
   "cell_type": "code",
   "execution_count": 5,
   "metadata": {},
   "outputs": [
    {
     "name": "stdout",
     "output_type": "stream",
     "text": [
      "Hasil perkalian matrix orde 3: \n",
      "Masukkan nilai matrix :\n",
      "A[1][1]: 1\n",
      "A[1][2]: 2\n",
      "A[1][3]: 3\n",
      "A[2][1]: 4\n",
      "A[2][2]: 5\n",
      "A[2][3]: 6\n",
      "A[3][1]: 7\n",
      "A[3][2]: 8\n",
      "A[3][3]: 9\n",
      " \n",
      "Matrix yang di input :\n",
      "[[1 2 3]\n",
      " [4 5 6]\n",
      " [7 8 9]]\n",
      "Masukkan nilai matrix :\n",
      "A[1][1]: 9\n",
      "A[1][2]: 8\n",
      "A[1][3]: 7\n",
      "A[2][1]: 6\n",
      "A[2][2]: 5\n",
      "A[2][3]: 4\n",
      "A[3][1]: 3\n",
      "A[3][2]: 2\n",
      "A[3][3]: 1\n",
      " \n",
      "Matrix yang di input :\n",
      "[[9 8 7]\n",
      " [6 5 4]\n",
      " [3 2 1]]\n"
     ]
    },
    {
     "data": {
      "text/plain": [
       "array([[ 30,  24,  18],\n",
       "       [ 84,  69,  54],\n",
       "       [138, 114,  90]])"
      ]
     },
     "execution_count": 5,
     "metadata": {},
     "output_type": "execute_result"
    }
   ],
   "source": [
    "print(\"Hasil perkalian matrix orde 3: \")\n",
    "input_matrix(3).dot(input_matrix(3)) #Mencari hasil perkalian berdasarkan matrix yang di input, dengan dimensi matrix yaitu 3"
   ]
  },
  {
   "cell_type": "code",
   "execution_count": 6,
   "metadata": {},
   "outputs": [],
   "source": [
    "#Membuat fungsi untuk mencari nilai determinan\n",
    "def determinan_matrix(len):\n",
    "    B = []\n",
    "    for i in range (0,len):\n",
    "        simpan = []\n",
    "        for j in range(0,len):\n",
    "            mulai = input('['+str(i+1)+']['+str(j+1)+']: ')\n",
    "            simpan.append(eval(mulai))\n",
    "        B.append(simpan)\n",
    "    b = array(B)\n",
    "    print(\" \")\n",
    "    print(\"Matrix yang di input : \")\n",
    "    print (b)\n",
    "    print(\" \")\n",
    "    print(\"Nilai determinan yang didapat yaitu: \")\n",
    "    return b"
   ]
  },
  {
   "cell_type": "code",
   "execution_count": 8,
   "metadata": {},
   "outputs": [
    {
     "name": "stdout",
     "output_type": "stream",
     "text": [
      "Hasil detrminan matrix orde 2: \n",
      "[1][1]: 1\n",
      "[1][2]: 2\n",
      "[2][1]: 3\n",
      "[2][2]: 4\n",
      " \n",
      "Matrix yang di input : \n",
      "[[1 2]\n",
      " [3 4]]\n",
      " \n",
      "Nilai determinan yang didapat yaitu: \n"
     ]
    },
    {
     "data": {
      "text/plain": [
       "-2.0"
      ]
     },
     "execution_count": 8,
     "metadata": {},
     "output_type": "execute_result"
    }
   ],
   "source": [
    "print(\"Hasil detrminan matrix orde 2: \")\n",
    "round(det(determinan_matrix(2))) "
   ]
  },
  {
   "cell_type": "code",
   "execution_count": 9,
   "metadata": {},
   "outputs": [
    {
     "name": "stdout",
     "output_type": "stream",
     "text": [
      "Hasil detrminan matrix orde 3: \n",
      "[1][1]: 1\n",
      "[1][2]: 2\n",
      "[1][3]: 3\n",
      "[2][1]: 4\n",
      "[2][2]: 5\n",
      "[2][3]: 6\n",
      "[3][1]: 7\n",
      "[3][2]: 8\n",
      "[3][3]: 9\n",
      " \n",
      "Matrix yang di input : \n",
      "[[1 2 3]\n",
      " [4 5 6]\n",
      " [7 8 9]]\n",
      " \n",
      "Nilai determinan yang didapat yaitu: \n"
     ]
    },
    {
     "data": {
      "text/plain": [
       "0.0"
      ]
     },
     "execution_count": 9,
     "metadata": {},
     "output_type": "execute_result"
    }
   ],
   "source": [
    "print(\"Hasil detrminan matrix orde 3: \")\n",
    "round(det(determinan_matrix(3))) "
   ]
  },
  {
   "cell_type": "markdown",
   "metadata": {},
   "source": [
    "Semua fungsi yang sudah dibuat dapat dipergunakan untuk operasi matrix (penjumlahan, pengurangan, perkalian) dan mencari nilai determinan dengan cara memanggil kembali fungsi tersebut, lalu memasukkan nilai matrix nya.\n",
    "Fungsi tersebut dapat menghitung mulai dari matrix dimensi 2 sampai berapapun.\n",
    "Angka yang di input diatas hanya berupa contoh soal sederhana yang bertujuan untuk membuktikan bahwa code diatas adalah benar dengan hasil perhitungan yang sesungguhnya, namun masih perlu evaluasi terhadap interface yang baik agar tidak terjadi kesalahan pada saat input matrixnya.\n",
    "\n",
    "TTD\n",
    "\n",
    "Dhoni Ikhsan Widodo"
   ]
  }
 ],
 "metadata": {
  "kernelspec": {
   "display_name": "Python 3",
   "language": "python",
   "name": "python3"
  },
  "language_info": {
   "codemirror_mode": {
    "name": "ipython",
    "version": 3
   },
   "file_extension": ".py",
   "mimetype": "text/x-python",
   "name": "python",
   "nbconvert_exporter": "python",
   "pygments_lexer": "ipython3",
   "version": "3.7.3"
  }
 },
 "nbformat": 4,
 "nbformat_minor": 2
}
