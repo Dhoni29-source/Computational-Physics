{
 "cells": [
  {
   "cell_type": "code",
   "execution_count": 1,
   "metadata": {},
   "outputs": [],
   "source": [
    "A = [[1,2,3],\n",
    "    [4,5,6],\n",
    "    [7,8,9]]\n",
    "\n",
    "B = [[1,2,3],\n",
    "    [4,5,6],\n",
    "    [7,8,9]]"
   ]
  },
  {
   "cell_type": "code",
   "execution_count": 2,
   "metadata": {},
   "outputs": [
    {
     "name": "stdout",
     "output_type": "stream",
     "text": [
      "2 4 6 \n",
      "8 10 12 \n",
      "14 16 18 \n"
     ]
    }
   ],
   "source": [
    "#C = dim 3 atau matrix dimensi 3\n",
    "C = [[0]*3,[0]*3,[0]*3]\n",
    "\n",
    "#penjumlahan matrix\n",
    "for i in range(0,3):\n",
    "    for j in range(0,3):\n",
    "        C[i][j] = A[i][j] + B[i][j]\n",
    "        \n",
    "#Print hasil penjumlahan matrix nya        \n",
    "for i in range(0,3):\n",
    "    string = ''\n",
    "    for j in range(0,3):\n",
    "        string += str(C[i][j]) + ' '\n",
    "    print(string)"
   ]
  },
  {
   "cell_type": "code",
   "execution_count": 45,
   "metadata": {},
   "outputs": [
    {
     "name": "stdout",
     "output_type": "stream",
     "text": [
      "2 4 6 \n",
      "8 10 12 \n",
      "14 16 18 \n",
      "det(C) = 0\n"
     ]
    }
   ],
   "source": [
    "#C = dim 3 atau matrix dimensi 3\n",
    "C = [[0]*3,[0]*3,[0]*3]\n",
    "\n",
    "#penjumlahan matrix\n",
    "for i in range(0,3):\n",
    "    for j in range(0,3):\n",
    "        C[i][j] = A[i][j] + B[i][j]\n",
    "        \n",
    "#Determinan matrix        \n",
    "for i in range(0,3):\n",
    "    string = ''\n",
    "    for j in range(0,3):\n",
    "        string += str(C[i][j]) + ' '\n",
    "    print(string)\n",
    "\n",
    "detC = C[0][0]*C[1][1]*C[2][2] + \\\n",
    "       C[0][1]*C[1][2]*C[2][0] + \\\n",
    "       C[0][2]*C[1][0]*C[2][1] - \\\n",
    "       C[0][2]*C[1][1]*C[2][0] - \\\n",
    "       C[0][1]*C[1][0]*C[2][2] - \\\n",
    "       C[0][0]*C[1][2]*C[2][1] \n",
    "print('det(C) = ' + str(detC)) \n"
   ]
  },
  {
   "cell_type": "code",
   "execution_count": 46,
   "metadata": {},
   "outputs": [
    {
     "name": "stdout",
     "output_type": "stream",
     "text": [
      "1800\n"
     ]
    }
   ],
   "source": [
    "#Cara panjang/komplex\n",
    "mulC0 = 1\n",
    "for j in range(0,3):\n",
    "    k = j\n",
    "    if (k>2): k -= 3\n",
    "    mulC0 *= C[j][k]\n",
    "    \n",
    "mulC1 = 1\n",
    "for j in range(0,3):\n",
    "    k = j + 1\n",
    "    if (k>2): k -= 3\n",
    "    mulC1 *= C[j][k]\n",
    "    \n",
    "mulC2 = 1\n",
    "for j in range(0,3):\n",
    "    k = j + 2\n",
    "    if (k>2): k -= 3\n",
    "    mulC2 *= C[j][k]\n",
    "    \n",
    "sumC0 = mulC0 + mulC1 + mulC2\n",
    "print(sumC0)"
   ]
  },
  {
   "cell_type": "code",
   "execution_count": 48,
   "metadata": {},
   "outputs": [
    {
     "name": "stdout",
     "output_type": "stream",
     "text": [
      "det(C) = 0\n"
     ]
    }
   ],
   "source": [
    "sumC = 0\n",
    "for i in range(0,3):\n",
    "    mulC = 1\n",
    "    for j in range(0,3):\n",
    "        k = j+i\n",
    "        if (k>2): k -= 3\n",
    "        mulC *= C[j][k]\n",
    "    sumC += mulC\n",
    "for i in range(0,3):\n",
    "    mulC = 1\n",
    "    for j in range(0,3):\n",
    "        k = i-j\n",
    "        if (k<0): k += 3\n",
    "        mulC *= C[j][k]\n",
    "    sumC -= mulC\n",
    "\n",
    "print('det(C) = ' + str(sumC))"
   ]
  },
  {
   "cell_type": "code",
   "execution_count": 49,
   "metadata": {},
   "outputs": [
    {
     "name": "stdout",
     "output_type": "stream",
     "text": [
      "C =\n",
      "2 3 4 \n",
      "5 4 3 \n",
      "7 0 1 \n",
      "det(C) = -56\n"
     ]
    }
   ],
   "source": [
    "#Contoh lain\n",
    "# dim = 3\n",
    "C = [[2,3,4],[5,4,3],[7,0,1]]\n",
    "\n",
    "# print(C)\n",
    "# penjumlahan matrix\n",
    "# for i in range(0,3):\n",
    "#     for j in range(0,3):\n",
    "# #         print(i,j)\n",
    "#         C[i][j] = A[i][j] + B[i][j]\n",
    "\n",
    "#print matrix\n",
    "\n",
    "print('C =')\n",
    "for i in range(0,3):\n",
    "    string = ''\n",
    "    for j in range(0,3):\n",
    "        string += str(C[i][j]) + ' '\n",
    "    print(string)\n",
    "    \n",
    "detC = C[0][0]*C[1][1]*C[2][2] + \\\n",
    "       C[0][1]*C[1][2]*C[2][0] + \\\n",
    "       C[0][2]*C[1][0]*C[2][1] - \\\n",
    "       C[0][2]*C[1][1]*C[2][0] - \\\n",
    "       C[0][1]*C[1][0]*C[2][2] - \\\n",
    "       C[0][0]*C[1][2]*C[2][1]\n",
    "\n",
    "print('det(C) = ' + str(detC))"
   ]
  },
  {
   "cell_type": "code",
   "execution_count": 51,
   "metadata": {},
   "outputs": [
    {
     "name": "stdout",
     "output_type": "stream",
     "text": [
      "det(C) = -56\n"
     ]
    }
   ],
   "source": [
    "sumC = 0\n",
    "for i in range(0,3):\n",
    "    mulC = 1\n",
    "    for j in range(0,3):\n",
    "        k = j+i\n",
    "        if (k>2): k -= 3\n",
    "        mulC *= C[j][k]\n",
    "    sumC += mulC\n",
    "for i in range(0,3):\n",
    "    mulC = 1\n",
    "    for j in range(0,3):\n",
    "        k = i-j\n",
    "        if (k<0): k += 3\n",
    "        mulC *= C[j][k]\n",
    "    sumC -= mulC\n",
    "\n",
    "print('det(C) = ' + str(sumC))"
   ]
  },
  {
   "cell_type": "code",
   "execution_count": 52,
   "metadata": {},
   "outputs": [
    {
     "name": "stdout",
     "output_type": "stream",
     "text": [
      "det(C) = 11\n"
     ]
    }
   ],
   "source": [
    "#contoh lainnya\n",
    "\n",
    "C = [[1,2,3],[2,1,4],[3,1,2]]\n",
    "\n",
    "sumC = 0\n",
    "for i in range(0,3):\n",
    "    mulC = 1\n",
    "    for j in range(0,3):\n",
    "        k = j+i\n",
    "        if (k>2): k -= 3\n",
    "        mulC *= C[j][k]\n",
    "    sumC += mulC\n",
    "for i in range(0,3):\n",
    "    mulC = 1\n",
    "    for j in range(0,3):\n",
    "        k = i-j\n",
    "        if (k<0): k += 3\n",
    "        mulC *= C[j][k]\n",
    "    sumC -= mulC\n",
    "\n",
    "print('det(C) = ' + str(sumC))"
   ]
  }
 ],
 "metadata": {
  "kernelspec": {
   "display_name": "Python 3",
   "language": "python",
   "name": "python3"
  },
  "language_info": {
   "codemirror_mode": {
    "name": "ipython",
    "version": 3
   },
   "file_extension": ".py",
   "mimetype": "text/x-python",
   "name": "python",
   "nbconvert_exporter": "python",
   "pygments_lexer": "ipython3",
   "version": "3.7.3"
  }
 },
 "nbformat": 4,
 "nbformat_minor": 2
}
