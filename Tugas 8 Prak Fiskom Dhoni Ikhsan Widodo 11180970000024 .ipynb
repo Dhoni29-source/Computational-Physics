{
 "cells": [
  {
   "cell_type": "markdown",
   "metadata": {},
   "source": [
    "**Dhoni Ikhsan Widodo - 11180970000024 Kelas 4A**"
   ]
  },
  {
   "cell_type": "code",
   "execution_count": 1,
   "metadata": {},
   "outputs": [],
   "source": [
    "# import semua modul\n",
    "import math\n",
    "import numpy as np\n",
    "import matplotlib.pyplot as plt\n",
    "from bisection import *\n",
    "from rootsearch import *\n",
    "from secant import *\n",
    "from falsePos import *\n",
    "from newtonRaphson import *\n",
    "from newtonRaphson2 import *"
   ]
  },
  {
   "cell_type": "markdown",
   "metadata": {},
   "source": [
    "**Tugas nomor 19**\n",
    "\n",
    "Pada problem Fisika ini, kita mencari nilai t(waktu) ketika roket mencapai kecepatan suara (335m/s), menggunakan 5 metode yang berbeda yaitu: Bisection, Incremental rootsearch, secant, false-position dan newtonRaphson.\n",
    "\n",
    "Persamaan f(x) nya sudah diperoleh diatas kertas (file pdf) beserta hasil turunannya"
   ]
  },
  {
   "cell_type": "code",
   "execution_count": 6,
   "metadata": {},
   "outputs": [
    {
     "name": "stdout",
     "output_type": "stream",
     "text": [
      "[ 0  1  2  3  4  5  6  7  8  9 10 11 12 13 14 15 16 17 18 19 20 21 22 23\n",
      " 24 25 26 27 28 29 30 31 32 33 34 35 36 37 38 39 40 41 42 43 44 45 46 47\n",
      " 48 49 50 51 52 53 54 55 56 57 58 59 60 61 62 63 64 65 66 67 68 69 70 71\n",
      " 72 73 74 75 76 77 78 79 80 81 82 83 84 85 86 87 88 89 90 91 92 93 94 95\n",
      " 96 97 98 99]\n",
      "[-335.         -332.84909407 -330.64101376 -328.37520938 -326.05112326\n",
      " -323.66818965 -321.22583449 -318.72347528 -316.16052093 -313.53637155\n",
      " -310.85041833 -308.10204329 -305.29061916 -302.41550917 -299.47606684\n",
      " -296.4716358  -293.40154958 -290.26513141 -287.06169401 -283.79053935\n",
      " -280.45095844 -277.0422311  -273.56362572 -270.01439901 -266.39379577\n",
      " -262.70104861 -258.9353777  -255.0959905  -251.18208147 -247.19283182\n",
      " -243.12740915 -238.98496721 -234.76464559 -230.46556935 -226.08684873\n",
      " -221.6275788  -217.08683914 -212.46369345 -207.7571892  -202.96635723\n",
      " -198.0902114  -193.12774817 -188.07794617 -182.93976582 -177.71214885\n",
      " -172.39401787 -166.98427591 -161.48180592 -155.88547032 -150.19411044\n",
      " -144.40654604 -138.52157476 -132.53797153 -126.45448805 -120.26985216\n",
      " -113.98276724 -107.59191158 -101.09593771  -94.49347177  -87.78311278\n",
      "  -80.96343192  -74.0329718   -66.9902457   -59.83373677  -52.56189719\n",
      "  -45.17314737  -37.66587503  -30.03843429  -22.28914476  -14.41629058\n",
      "   -6.41811934    1.70715887    9.96137262   18.3463902    26.86412082\n",
      "   35.51651578   44.30556976   53.23332206   62.301858     71.51331026\n",
      "   80.86986037   90.37374017  100.02723343  109.83267741  119.79246456\n",
      "  129.90904432  140.18492486  150.62267507  161.22492644  171.99437518\n",
      "  182.93378432  194.04598597  205.33388361  216.80045454  228.44875235\n",
      "  240.28190963  252.30314064  264.51574422  276.92310678  289.5287054 ]\n",
      "[<matplotlib.lines.Line2D object at 0x0000020B287495F8>]\n"
     ]
    },
    {
     "data": {
      "image/png": "[encoded data removed]",
      "text/plain": [
       "<Figure size 432x288 with 1 Axes>"
      ]
     },
     "metadata": {
      "needs_background": "light"
     },
     "output_type": "display_data"
    }
   ],
   "source": [
    "# Membuat grafik untuk mengetahui nilai tebakan awal di x1 dan x2\n",
    "\n",
    "def f(x):\n",
    "    return 2510.0*np.log((2.8*1.0e6)/(2.8*1.0e6 - x*13.3*1.0e3)) - 9.8*x - 335.0\n",
    "\n",
    "xplot = np.arange(0,100)\n",
    "yplot = f(xplot)\n",
    "plt.grid()\n",
    "plt.savefig('grafik_tebakan.png',format='png')\n",
    "grafik = plt.plot(xplot,yplot)\n",
    "print(xplot)\n",
    "print(yplot)\n",
    "print(grafik)\n",
    "\n",
    "# Didapat perkiraan untuk nilai tebakan awal yaitu: x1=60 dan x2=80\n",
    "# Karena Perubahan tanda terjadi pada range 60 sampai 80"
   ]
  },
  {
   "cell_type": "code",
   "execution_count": 3,
   "metadata": {},
   "outputs": [
    {
     "name": "stdout",
     "output_type": "stream",
     "text": [
      "t(s) = 70.79120\n",
      "t = the time when the rocket reaches the speed of sound (335 m/s).\n"
     ]
    }
   ],
   "source": [
    "# Bisection methods\n",
    "\n",
    "def f(x):\n",
    "    return 2510.0*np.log((2.8*1.0e6)/(2.8*1.0e6 - x*13.3*1.0e3)) - 9.8*x - 335.0\n",
    "\n",
    "# Tebakan awal\n",
    "x1 = 60.0\n",
    "x2 = 80.0\n",
    "\n",
    "t = bisection(f,x1,x2,switch=0,tol=1.0e-9)\n",
    "print('t(s) =','{:6.5f}'.format(t))\n",
    "print('t = the time when the rocket reaches the speed of sound (335 m/s).')"
   ]
  },
  {
   "cell_type": "code",
   "execution_count": 4,
   "metadata": {},
   "outputs": [
    {
     "name": "stdout",
     "output_type": "stream",
     "text": [
      "t(s) = 70.79100\n",
      "t = the time when the rocket reaches the speed of sound (335 m/s).\n"
     ]
    }
   ],
   "source": [
    "# Incremental rootsearch methods \n",
    "\n",
    "def f(x): return 2510.0*np.log((2.8*1.0e6)/(2.8*1.0e6 - x*13.3*1.0e3)) - 9.8*x - 335.0\n",
    "\n",
    "x1 = 60.0; x2 = 80.0 #Tebakan awal\n",
    "for i in range(4):\n",
    "    dx = (x2 - x1)/10.0\n",
    "    x1,x2 = rootsearch(f,x1,x2,dx)\n",
    "    \n",
    "t = (x1 + x2)/2.0\n",
    "print('t(s) =', '{:6.5f}'.format(t))\n",
    "print('t = the time when the rocket reaches the speed of sound (335 m/s).')"
   ]
  },
  {
   "cell_type": "code",
   "execution_count": 5,
   "metadata": {},
   "outputs": [
    {
     "name": "stdout",
     "output_type": "stream",
     "text": [
      "Iterations: 7\n",
      "t(s) = 70.791199\n",
      "t = the time when the rocket reaches the speed of sound (335 m/s).\n"
     ]
    }
   ],
   "source": [
    "# Secant methods\n",
    "\n",
    "def f(x):\n",
    "    return 2510.0*np.log((2.8*1.0e6)/(2.8*1.0e6 - x*13.3*1.0e3)) - 9.8*x - 335.0\n",
    "\n",
    "x0 = 60.0;   x1 = 80.0 #Tebakan awal\n",
    "\n",
    "solusi, iterations = secant(f, x0, x1, eps=1.0e-6)\n",
    "if iterations > 0:    \n",
    "    print(\"Iterations: %d\" % (2 + iterations))\n",
    "    print(\"t(s) = %f\" % (solusi))\n",
    "else: \n",
    "    print(\"Solusi tidak ditemukan!\")\n",
    "print('t = the time when the rocket reaches the speed of sound (335 m/s).')"
   ]
  },
  {
   "cell_type": "code",
   "execution_count": 6,
   "metadata": {},
   "outputs": [
    {
     "name": "stdout",
     "output_type": "stream",
     "text": [
      "t(s) = 70.79120\n",
      "t = the time when the rocket reaches the speed of sound (335 m/s).\n"
     ]
    }
   ],
   "source": [
    "# False-position methods\n",
    "\n",
    "def f(x):\n",
    "    return 2510.0*np.log((2.8*1.0e6)/(2.8*1.0e6 - x*13.3*1.0e3)) - 9.8*x - 335.0\n",
    "\n",
    "# Tebakan awal\n",
    "xl = 60.0\n",
    "xu = 80.0\n",
    "\n",
    "t = falsePos(f,xl,xu,tol=1.0e-9)\n",
    "print('t(s) =', '{:6.5f}'.format(t))\n",
    "print('t = the time when the rocket reaches the speed of sound (335 m/s).')"
   ]
  },
  {
   "cell_type": "code",
   "execution_count": 7,
   "metadata": {},
   "outputs": [
    {
     "name": "stdout",
     "output_type": "stream",
     "text": [
      "t(s) = 70.78285\n",
      "t = the time when the rocket reaches the speed of sound (335 m/s).\n"
     ]
    }
   ],
   "source": [
    "# newtonRaphson methods\n",
    "\n",
    "def f(x):\n",
    "    return 2510.0*np.log((2.8*1.0e6)/(2.8*1.0e6 - x*13.3*1.0e3)) - 9.8*x - 335.0 \n",
    "def df(x):\n",
    "    return 2510.0*(2.8*1.0e6 - 13.3*1.0e3)*76000.0/(2.8*1.0e6*(x*19.0-4000.0)**2) - 9.8\n",
    "\n",
    "# Tebakan awal\n",
    "x1 = 60\n",
    "x2 = 80\n",
    "\n",
    "t = (newtonRaphson(f,df,x1,x2,tol=1.0e-4))\n",
    "print('t(s) =', '{:6.5f}'.format(t))\n",
    "print('t = the time when the rocket reaches the speed of sound (335 m/s).')"
   ]
  },
  {
   "cell_type": "markdown",
   "metadata": {},
   "source": [
    "Dari beberapa metode yang digunakan untuk mencari akar fungsi(nilai t), semua metode menghasilkan jawaban yang sama dan dapat bekerja dengan baik, namun menurut saya pribadi, yang paling baik dan efektif adalah metode bisection, karena dalam prosesnya bisection akan membagi dua bagian interval(range), lalu dari dua bagian ini dipilih bagian mana yang mengandung akar dan bagian yang tidak mengandung akar akan dibuang. Hal ini dilakukan secara berulang hingga diperoleh akar persamaan atau mendekati akar persamaan. "
   ]
  },
  {
   "cell_type": "markdown",
   "metadata": {},
   "source": [
    "**Tugas Nomor 28**\n",
    "\n",
    "Pada problem Fisika kali ini, kita mencari kecepatan (v), waktu (t), dan sudut / theta sebelum pelemparan sebuah proyektil ke dinding, lalu ketika proyektil tersebut sudah dilemparkan, ia menghasilkan sudut 45 derajat terhadap dinding:\n",
    "\n",
    "di misalkan: \n",
    "v= x[0], lalu\n",
    "t = x[1], dan\n",
    "sudut periodik = x[2]\n",
    "\n",
    "persamaan f(1), f(2), dan f(3) sudah didapatkan sebelumnya melalui perhitungan diatas kertas (file nya PDF). Selanjutnya kita menggunakan modul newtonRaphson2 untuk menemukan value dari v, t dan sudut periodik nya"
   ]
  },
  {
   "cell_type": "code",
   "execution_count": 8,
   "metadata": {},
   "outputs": [
    {
     "name": "stdout",
     "output_type": "stream",
     "text": [
      "Hasil perhitungan yang diperoleh :\n",
      "\n",
      "kecepatan(m/s)  waktu(s)   sudut periodik\n",
      "[ 77.33701116   8.58332507 391.0362616 ]\n"
     ]
    }
   ],
   "source": [
    "# Menggunakan modul newtonRaphson2 \n",
    "def f(x):\n",
    "    f = np.zeros(len(x))\n",
    "    \n",
    "    # Menuliskan fungsi yang telah didapat sesuai dengan sintaks python\n",
    "    f[0] = 61 - (x[0]*math.cos(x[2]))*x[1]\n",
    "    f[1] = 300 + 0.5*9.8*x[1]**2 - (x[0]*math.sin(x[2]))*x[1]\n",
    "    f[2] = x[0]*math.cos(x[2]) - 9.8*x[1]+x[0]*math.sin(x[2])\n",
    "    return f\n",
    "\n",
    "# point awal \n",
    "x = np.array([1.0, 1.0, 1.0]) # Tebakan awal mulai dari 1,1,1\n",
    "print('Hasil perhitungan yang diperoleh :\\n')\n",
    "print('kecepatan(m/s)  waktu(s)   sudut periodik')\n",
    "print(newtonRaphson2(f,x))"
   ]
  },
  {
   "cell_type": "code",
   "execution_count": 9,
   "metadata": {},
   "outputs": [
    {
     "name": "stdout",
     "output_type": "stream",
     "text": [
      "Didapat sudut periodiknya yaitu = 391\n",
      "Maka, untuk mencari sudut(theta) sebelum pelemparan proyektil yaitu dengan cara:\n",
      "theta = sudut periodik - 360 derajat\n",
      "theta = 31 derajat\n"
     ]
    }
   ],
   "source": [
    "# Menemukan sudut/theta sebelum pelemparan proyektil\n",
    "periodik = 391\n",
    "theta = periodik - 360\n",
    "print('Didapat sudut periodiknya yaitu = 391')\n",
    "print('Maka, untuk mencari sudut(theta) sebelum pelemparan proyektil yaitu dengan cara:')\n",
    "print('theta = sudut periodik - 360 derajat')\n",
    "print('theta =', theta, ('derajat'))"
   ]
  },
  {
   "cell_type": "markdown",
   "metadata": {},
   "source": [
    "**Melakukan validasi untuk membuktikan hasil v (kecepatan), t (waktu), dan sudut periodiknya sudah benar**"
   ]
  },
  {
   "cell_type": "code",
   "execution_count": 10,
   "metadata": {},
   "outputs": [
    {
     "name": "stdout",
     "output_type": "stream",
     "text": [
      "nilai t(s) = 8.583324963936432\n",
      "\n",
      "nilai x(m) = 61.00000075377289\n",
      "\n",
      "nilai y(m) = 299.99999991053255\n",
      "\n",
      "Ternyata sudah terbukti bahwa nilai nya akurat dan sudah sesuai\n",
      "Maka, hasil v, t dan sudut periodik yang didapat menggunakan metode newtonRaphson2 sudah benar\n"
     ]
    }
   ],
   "source": [
    "# mencari nilai t (waktu) jika sudah diketahui v = 77.33701116 dan sudut periodik = 391.0362616 \n",
    "t = 61 /(77.33701116*math.cos(391.0362616))\n",
    "\n",
    "# Mencari nilai x jika sudah diketahui v = 77.33701116, t = 8.58332507, dan sudut periodik = 391.0362616 \n",
    "# Apakah nilai x = 61 ???\n",
    "x = (77.33701116*math.cos(391.0362616)*8.58332507)\n",
    "\n",
    "# Mencari nilai y jika sudah diketahui v = 77.33701116, t = 8.58332507, dan sudut periodik = 391.0362616 \n",
    "# Apakah nilai y = 300 ???\n",
    "y = -0.5*9.8*(8.58332507**2) + (77.33701116*math.sin(391.0362616))*8.58332507\n",
    "print('nilai t(s) =',t)\n",
    "print('\\nnilai x(m) =',x)\n",
    "print('\\nnilai y(m) =',y)\n",
    "\n",
    "print('\\nTernyata sudah terbukti bahwa nilai nya akurat dan sudah sesuai')\n",
    "print('Maka, hasil v, t dan sudut periodik yang didapat menggunakan metode newtonRaphson2 sudah benar')"
   ]
  },
  {
   "cell_type": "code",
   "execution_count": null,
   "metadata": {},
   "outputs": [],
   "source": []
  }
 ],
 "metadata": {
  "kernelspec": {
   "display_name": "Python 3",
   "language": "python",
   "name": "python3"
  },
  "language_info": {
   "codemirror_mode": {
    "name": "ipython",
    "version": 3
   },
   "file_extension": ".py",
   "mimetype": "text/x-python",
   "name": "python",
   "nbconvert_exporter": "python",
   "pygments_lexer": "ipython3",
   "version": "3.7.3"
  }
 },
 "nbformat": 4,
 "nbformat_minor": 2
}
