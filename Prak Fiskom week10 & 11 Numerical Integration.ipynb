{
 "cells": [
  {
   "cell_type": "markdown",
   "metadata": {},
   "source": [
    "**Numerical Integration**"
   ]
  },
  {
   "cell_type": "code",
   "execution_count": 8,
   "metadata": {},
   "outputs": [
    {
     "name": "stdout",
     "output_type": "stream",
     "text": [
      "Integral = -0.8948316648532865\n",
      "nPanels = 32768\n"
     ]
    }
   ],
   "source": [
    "# Example 6.4 hlm 207\n",
    "import math\n",
    "from trapezoid import *\n",
    "def f(x): return math.sqrt(x)*math.cos(x)\n",
    "Iold = 0.0\n",
    "\n",
    "for k in range(1,21):\n",
    "    Inew = trapezoid(f,0.0,math.pi,Iold,k)\n",
    "    if (k > 1) and (abs(Inew - Iold)) < 1.0e-6: break\n",
    "    Iold = Inew\n",
    "print(\"Integral =\",Inew)\n",
    "print(\"nPanels =\",2**(k-1))"
   ]
  },
  {
   "cell_type": "code",
   "execution_count": 13,
   "metadata": {},
   "outputs": [
    {
     "name": "stdout",
     "output_type": "stream",
     "text": [
      "Integral = 2.0000000000013207\n",
      "numEvals = 32\n"
     ]
    }
   ],
   "source": [
    "# Exampel 6.6 hlm 211\n",
    "import math\n",
    "from romberg import *\n",
    "\n",
    "def f(x): return math.sin(x)\n",
    "\n",
    "I,n = romberg(f,0,math.pi)\n",
    "print(\"Integral =\",I)\n",
    "print(\"numEvals =\",n)"
   ]
  },
  {
   "cell_type": "code",
   "execution_count": 4,
   "metadata": {},
   "outputs": [
    {
     "name": "stdout",
     "output_type": "stream",
     "text": [
      "Integral = -0.8948314695044126\n",
      "numEvals = 64\n"
     ]
    }
   ],
   "source": [
    "# Exampel 6.7 hlm 211\n",
    "import math\n",
    "from romberg import *\n",
    "\n",
    "def f(x): return 2.0*(x**2)*math.cos(x**2)\n",
    "\n",
    "I,n = romberg(f,0,math.sqrt(math.pi))\n",
    "print(\"Integral =\",I)\n",
    "print(\"numEvals =\",n)"
   ]
  },
  {
   "cell_type": "code",
   "execution_count": 2,
   "metadata": {},
   "outputs": [
    {
     "name": "stdout",
     "output_type": "stream",
     "text": [
      "Metode Trapezoid:\n",
      "Integral = 0.2721982612879502\n",
      "nPanels = 2\n",
      "\n",
      "Metode romberg:\n",
      "Integral = 0.27219826128795016\n",
      "numEvals = 2\n"
     ]
    }
   ],
   "source": [
    "# Problem set 6.1 hlm 212\n",
    "# Nomor 1\n",
    "# Dari Metode Trapezoid dan Romberg\n",
    "import math\n",
    "import numpy as np\n",
    "\n",
    "# Trapezoid\n",
    "from trapezoid import *\n",
    "def f(x): return np.log(1+ math.tan(x)) #Fungsinya\n",
    "Iold = 0.0 \n",
    "\n",
    "for k in range(1,21):\n",
    "    Inew = trapezoid(f,0.0,math.pi/4,Iold,k) #Batas bawah dan atas\n",
    "    if (k > 1) and (abs(Inew - Iold)) < 1.0e-6: break\n",
    "    Iold = Inew\n",
    "print('Metode Trapezoid:')\n",
    "print(\"Integral =\",Inew)\n",
    "print(\"nPanels =\",2**(k-1))\n",
    "\n",
    "# Romberg\n",
    "from romberg import *\n",
    "def f(x): return np.log(1+ math.tan(x)) #Fungsinya\n",
    "\n",
    "I,n = romberg(f,0,math.pi/4) #Batas bawah dan atas\n",
    "print('\\nMetode romberg:')\n",
    "print(\"Integral =\",I)\n",
    "print(\"numEvals =\",n)"
   ]
  },
  {
   "cell_type": "code",
   "execution_count": 1,
   "metadata": {},
   "outputs": [
    {
     "name": "stdout",
     "output_type": "stream",
     "text": [
      "Metode Trapezoid:\n",
      "Integral = 55.65000033108514\n",
      "nPanels = 16384\n",
      "\n",
      "Metode romberg:\n",
      "Integral = 55.650000000000006\n",
      "numEvals = 8\n"
     ]
    }
   ],
   "source": [
    "# Menggunakan persamaan fungsi yang berbeda\n",
    "# Dari Metode Trapezoid dan Romberg\n",
    "import math\n",
    "import numpy as np\n",
    "\n",
    "# Trapezoid\n",
    "from trapezoid import *\n",
    "def f(x): return 0.1*x**5 - 0.2*x**3 + 0.1*x - 0.2 #Fungsinya\n",
    "Iold = 0.0 \n",
    "\n",
    "for k in range(1,21):\n",
    "    Inew = trapezoid(f,1.0,4.0,Iold,k) #Batas bawah:1 dan atas:4\n",
    "    if (k > 1) and (abs(Inew - Iold)) < 1.0e-6: break\n",
    "    Iold = Inew\n",
    "print('Metode Trapezoid:')\n",
    "print(\"Integral =\",Inew)\n",
    "print(\"nPanels =\",2**(k-1))\n",
    "\n",
    "# Romberg\n",
    "from romberg import *\n",
    "def f(x): return 0.1*x**5 - 0.2*x**3 + 0.1*x - 0.2 #Fungsinya\n",
    "\n",
    "I,n = romberg(f,1.0,4.0) #Batas bawah:1 dan atas:4\n",
    "print('\\nMetode romberg:')\n",
    "print(\"Integral =\",I)\n",
    "print(\"numEvals =\",n)"
   ]
  },
  {
   "cell_type": "code",
   "execution_count": 2,
   "metadata": {},
   "outputs": [
    {
     "name": "stdout",
     "output_type": "stream",
     "text": [
      "Integral = 0.6205361983069251\n",
      "numEvals = 2048\n"
     ]
    }
   ],
   "source": [
    "# Problem 6.1, nomor 8, hlm 213\n",
    "import math\n",
    "from romberg import *\n",
    "\n",
    "def f(x): return math.sin(x)/math.sqrt(x)\n",
    "\n",
    "I,n = romberg(f,10e-6,1)\n",
    "print(\"Integral =\",I)\n",
    "print(\"numEvals =\",n)"
   ]
  },
  {
   "cell_type": "code",
   "execution_count": 13,
   "metadata": {},
   "outputs": [
    {
     "name": "stdout",
     "output_type": "stream",
     "text": [
      "Integral = 3.119189781494941\n",
      "numEvals = 32\n",
      "v0 = 2.4976748313160946\n"
     ]
    }
   ],
   "source": [
    "# Problem set 6.1, nmor 13 Halaman 214\n",
    "import math\n",
    "from romberg import *\n",
    "\n",
    "def f(x): return 0.3*9.81 + ((80.0/0.8)*(0.3*0.4+x))*(1-(0.4/(math.sqrt(0.4**2 + x**2))))\n",
    "\n",
    "I,n = romberg(f,10e-10,0.4)\n",
    "print(\"Integral =\",I)\n",
    "print(\"numEvals =\",n)\n",
    "v0 = math.sqrt(2*I)\n",
    "print('v0 =',v0)"
   ]
  },
  {
   "cell_type": "code",
   "execution_count": 30,
   "metadata": {},
   "outputs": [
    {
     "name": "stdout",
     "output_type": "stream",
     "text": [
      "Integral = 0.02599999819079726\n",
      "numEvals = 32\n",
      "irms =  0.7211102300036695\n"
     ]
    }
   ],
   "source": [
    "# Problem set 6.1, nomor 16 Halaman 215\n",
    "import math\n",
    "from romberg import *\n",
    "\n",
    "def f(x): return (1.0*(math.sin(math.pi*x/0.05) - 0.2*math.sin(math.pi*2*x/0.05)))**2\n",
    "\n",
    "I,n = romberg(f,0.0,0.05)\n",
    "print(\"Integral =\",I)\n",
    "print(\"numEvals =\",n)\n",
    "irms = math.sqrt(I/0.05)\n",
    "print('irms = ',irms)"
   ]
  },
  {
   "cell_type": "code",
   "execution_count": 37,
   "metadata": {},
   "outputs": [
    {
     "name": "stdout",
     "output_type": "stream",
     "text": [
      "Ketika batas atas = 1\n",
      "Integral = 0.9460830693872225\n",
      "numEvals = 8\n",
      "\n",
      "Ketika batas atas = 0.94608\n",
      "Integral = 0.9002794598656587\n",
      "numEvals = 8\n"
     ]
    }
   ],
   "source": [
    "# Problem set 6.1, nmor 18 Halaman 216\n",
    "import math\n",
    "from romberg import *\n",
    "\n",
    "def f(x): return x**-1*math.sin(x)\n",
    "print('Ketika batas atas = 1')\n",
    "I,n = romberg(f,10e-10,1.0)\n",
    "print(\"Integral =\",I)\n",
    "print(\"numEvals =\",n)\n",
    "\n",
    "def f(x): return x**-1*math.sin(x)\n",
    "print('\\nKetika batas atas = 0.94608')\n",
    "i,N = romberg(f,10e-10,0.94608)\n",
    "print(\"Integral =\",i)\n",
    "print(\"numEvals =\",N)\n"
   ]
  },
  {
   "cell_type": "markdown",
   "metadata": {},
   "source": [
    "**Metode Simpson**"
   ]
  },
  {
   "cell_type": "code",
   "execution_count": 2,
   "metadata": {},
   "outputs": [
    {
     "name": "stdout",
     "output_type": "stream",
     "text": [
      "Batas bawah :0\n",
      "Batas atas :1\n",
      "\n",
      "iterasi \t n \t Simpson 1/3 rule\n",
      "1 \t\t 2 \t 0.5037467713538537\n",
      "2 \t\t 4 \t 0.5211550752384201\n",
      "3 \t\t 6 \t 0.5257021644193367\n",
      "4 \t\t 8 \t 0.5276231518005119\n",
      "5 \t\t 10 \t 0.5286391676279104\n",
      "6 \t\t 12 \t 0.5292516522663004\n",
      "7 \t\t 14 \t 0.529653998389796\n",
      "8 \t\t 16 \t 0.5299348806805084\n",
      "9 \t\t 18 \t 0.5301400709082674\n",
      "10 \t\t 20 \t 0.5302953317364384\n",
      "11 \t\t 22 \t 0.530416156099638\n",
      "12 \t\t 24 \t 0.5305123616766183\n",
      "13 \t\t 26 \t 0.5305904396916664\n",
      "14 \t\t 28 \t 0.5306548356061939\n",
      "15 \t\t 30 \t 0.5307086853601668\n"
     ]
    }
   ],
   "source": [
    "# Menggunakan metode Simpson\n",
    "# untuk menjawab Example 6.4 hlm 207\n",
    "def fungsi (x):\n",
    "    y=math.sqrt(x)*math.cos(x)\n",
    "    return y\n",
    "\n",
    "a = float(input(\"Batas bawah :\")) #0\n",
    "b = float(input(\"Batas atas :\")) #3.14\n",
    "\n",
    "print(\"\\niterasi\",\"\\t\",\"n\",\"\\t\",\"Simpson 1/3 rule\")\n",
    "# Modul Simpson\n",
    "for iterasi in range(1,16,1):\n",
    "    n = 2*iterasi\n",
    "    h = (b-a)/n\n",
    "    ganjil = 0\n",
    "    genap = 0\n",
    "    xi=a+h\n",
    "    xj=a+(2*h)\n",
    "    for isimpson in range(1,n,2):\n",
    "        ganjil+=fungsi(xi)\n",
    "        xi+=(2*h)\n",
    "    for jsimpson in range(2,n-1,2):\n",
    "        genap+=fungsi(xj)\n",
    "        xj+=(2*h)\n",
    "    simpson=(h)*((fungsi(a)+(4*ganjil)+(2*genap)+fungsi(b))/3)\n",
    "    print(iterasi,\"\\t\\t\",n,\"\\t\",simpson)\n",
    "    \n",
    "# print(simpson)"
   ]
  },
  {
   "cell_type": "markdown",
   "metadata": {},
   "source": [
    "**Gaussian Integration**"
   ]
  },
  {
   "cell_type": "code",
   "execution_count": 1,
   "metadata": {},
   "outputs": [
    {
     "name": "stdout",
     "output_type": "stream",
     "text": [
      "Number of nodes = 5\n",
      "Integral = 1.418150267782668\n"
     ]
    }
   ],
   "source": [
    "# Example 6.11 hlm 228\n",
    "from gaussQuad import *\n",
    "\n",
    "def f(x): return (math.sin(x)/x)**2\n",
    "a = 0.0; b = math.pi; #Batas bawah dan atas\n",
    "Iexact = 1.41815\n",
    "for m in range(2,12):\n",
    "    I = gaussQuad(f,a,b,m)\n",
    "    if abs(I - Iexact) < 0.00001:\n",
    "        print(\"Number of nodes =\",m)\n",
    "        print(\"Integral =\", gaussQuad(f,a,b,m))\n",
    "        break"
   ]
  },
  {
   "cell_type": "code",
   "execution_count": 49,
   "metadata": {},
   "outputs": [
    {
     "name": "stdout",
     "output_type": "stream",
     "text": [
      "162.45134513154903\n"
     ]
    }
   ],
   "source": [
    " # Masih belom bener\n",
    "# Problem 6.2, nomor 1, hlm 230 ?????\n",
    "from gaussQuad import *\n",
    "\n",
    "def f(x): return (math.log(x)/x**2-2*x+2)\n",
    "a = 0.0; b = math.pi; #Batas bawah dan atas\n",
    "Iexact = -0.05882\n",
    "for m in range(2,10):\n",
    "    I = gaussQuad(f,a,b,m)\n",
    "    if abs(I - Iexact) < 0.01:\n",
    "        print(\"Number of nodes =\",m)\n",
    "        print(\"Integral =\", gaussQuad(f,a,b,m))\n",
    "        break\n",
    "\n",
    "print(Iexact-I)"
   ]
  },
  {
   "cell_type": "code",
   "execution_count": 83,
   "metadata": {},
   "outputs": [
    {
     "name": "stdout",
     "output_type": "stream",
     "text": [
      "Number of nodes = 32\n",
      "Integral = 0.6411799072817832\n",
      "Number of Error = 9.271821677092618e-08\n"
     ]
    }
   ],
   "source": [
    "# Problem 6.2, nomor 7, hlm 230\n",
    "from gaussQuad import *\n",
    "\n",
    "def f(x): return math.sin(x)*math.log(x)\n",
    "a = 0.0; b = math.pi; #Batas bawah dan atas\n",
    "Iexact = 0.64118\n",
    "for m in range(2,300):\n",
    "    I = gaussQuad(f,a,b,m)\n",
    "    if abs(I - Iexact) < 10e-8:\n",
    "        print(\"Number of nodes =\",m)\n",
    "        print(\"Integral =\", gaussQuad(f,a,b,m))\n",
    "        print(\"Number of Error =\",(Iexact-I))\n",
    "        break"
   ]
  },
  {
   "cell_type": "code",
   "execution_count": 1,
   "metadata": {},
   "outputs": [
    {
     "name": "stdout",
     "output_type": "stream",
     "text": [
      "Number of nodes = 3\n",
      "Integral = 0.4201482921159449\n",
      "Number of Error = 1.7078840551243424e-06\n",
      "\n",
      "Number of nodes = 4\n",
      "Integral = 0.6063373786474667\n",
      "Number of Error = 7.3786474666937e-06\n",
      "\n",
      "Number of nodes = 5\n",
      "Integral = 1.0588953459907957\n",
      "Number of Error = 5.345990795602162e-06\n"
     ]
    }
   ],
   "source": [
    "# Problem 6.2, nomor 14, hlm 231\n",
    "from gaussQuad import *\n",
    "\n",
    "def f(x): return x**2*math.sqrt(1.0+(2*1.0*x/2.0)**2)\n",
    "a = 0.0; b = 1.0; #Batas bawah dan atas\n",
    "Iexact = 0.42015\n",
    "for m in range(2,400):\n",
    "    I = gaussQuad(f,a,b,m)\n",
    "    if abs(I - Iexact) < 0.00001:\n",
    "        print(\"Number of nodes =\",m)\n",
    "        print(\"Integral =\", gaussQuad(f,a,b,m))\n",
    "        print(\"Number of Error =\",(Iexact-I))\n",
    "        break\n",
    "    \n",
    "def f(x): return x**2*math.sqrt(1.0+(2*1.0*x/1.0)**2)\n",
    "a = 0.0; b = 1.0; #Batas bawah dan atas\n",
    "Iexact = 0.60633\n",
    "for m in range(2,300):\n",
    "    I = gaussQuad(f,a,b,m)\n",
    "    if abs(I - Iexact) < 0.00001:\n",
    "        print(\"\\nNumber of nodes =\",m)\n",
    "        print(\"Integral =\", gaussQuad(f,a,b,m))\n",
    "        print(\"Number of Error =\",abs(Iexact-I))\n",
    "        break\n",
    "        \n",
    "def f(x): return x**2*math.sqrt(1.0+(2*2.0*x/1.0)**2)\n",
    "a = 0.0; b = 1.0; #Batas bawah dan atas\n",
    "Iexact = 1.05889\n",
    "for m in range(2,300):\n",
    "    I = gaussQuad(f,a,b,m)\n",
    "    if abs(I - Iexact) < 0.00001:\n",
    "        print(\"\\nNumber of nodes =\",m)\n",
    "        print(\"Integral =\", gaussQuad(f,a,b,m))\n",
    "        print(\"Number of Error =\",abs(Iexact-I))\n",
    "        break"
   ]
  },
  {
   "cell_type": "code",
   "execution_count": 2,
   "metadata": {},
   "outputs": [
    {
     "name": "stdout",
     "output_type": "stream",
     "text": [
      "\n",
      "We can see the range of debye constants (U) from 0 to 10, in intervals 0.5 :\n",
      "1.0\n",
      "1.5\n",
      "2.0\n",
      "2.5\n",
      "3.0\n",
      "3.5\n",
      "4.0\n",
      "4.5\n",
      "5.0\n",
      "5.5\n",
      "6.0\n",
      "6.5\n",
      "7.0\n",
      "7.5\n",
      "8.0\n",
      "8.5\n",
      "9.0\n",
      "9.5\n",
      "10.0\n",
      "\n",
      "Batas bawah = 1\n",
      "Batas atas = U\n",
      "\n",
      "When, debye constant(U) = 1.5 \n",
      "Integral = 1.1685367088966825\n",
      "numEvals = 8\n",
      "\n",
      "When, debye constant(U) = 2.0 \n",
      "Integral = 2.204295507616809\n",
      "numEvals = 16\n",
      "\n",
      "When, debye constant(U) = 2.5 \n",
      "Integral = 3.097662790368704\n",
      "numEvals = 16\n",
      "\n",
      "When, debye constant(U) = 3.0 \n",
      "Integral = 3.8325397350490853\n",
      "numEvals = 16\n",
      "\n",
      "When, debye constant(U) = 3.5 \n",
      "Integral = 4.391007337228386\n",
      "numEvals = 32\n",
      "\n",
      "When, debye constant(U) = 4.0 \n",
      "Integral = 4.754922700041305\n",
      "numEvals = 32\n",
      "\n",
      "When, debye constant(U) = 4.5 \n",
      "Integral = 4.906602523641043\n",
      "numEvals = 32\n",
      "\n",
      "When, debye constant(U) = 5.0 \n",
      "Integral = 4.82917200165091\n",
      "numEvals = 32\n",
      "\n",
      "When, debye constant(U) = 5.5 \n",
      "Integral = 4.506771703486683\n",
      "numEvals = 64\n",
      "\n",
      "When, debye constant(U) = 6.0 \n",
      "Integral = 3.924698398552011\n",
      "numEvals = 64\n",
      "\n",
      "When, debye constant(U) = 6.5 \n",
      "Integral = 3.0695113750151997\n",
      "numEvals = 64\n",
      "\n",
      "When, debye constant(U) = 7.0 \n",
      "Integral = 1.929120437169221\n",
      "numEvals = 64\n",
      "\n",
      "When, debye constant(U) = 7.5 \n",
      "Integral = 0.4928623467443507\n",
      "numEvals = 64\n",
      "\n",
      "When, debye constant(U) = 8.0 \n",
      "Integral = -1.2484302361665842\n",
      "numEvals = 128\n",
      "\n",
      "When, debye constant(U) = 8.5 \n",
      "Integral = -3.3023652484257893\n",
      "numEvals = 64\n",
      "\n",
      "When, debye constant(U) = 9.0 \n",
      "Integral = -5.674932400268826\n",
      "numEvals = 64\n",
      "\n",
      "When, debye constant(U) = 9.5 \n",
      "Integral = -8.370447993573874\n",
      "numEvals = 64\n",
      "\n",
      "When, debye constant(U) = 10.0 \n",
      "Integral = -11.39150362117442\n",
      "numEvals = 64\n"
     ]
    },
    {
     "data": {
      "text/plain": [
       "<Figure size 640x480 with 1 Axes>"
      ]
     },
     "metadata": {},
     "output_type": "display_data"
    }
   ],
   "source": [
    "# Contoh menggunakan persamaan yang lain\n",
    "# Batas bawah = 0.5\n",
    "# Batas atas = U \n",
    "# Dimana U adalah 1 sampai 10\n",
    "import numpy as np\n",
    "import math\n",
    "from romberg import * #In the Romberg module, there was a Trapezoid function\n",
    "import matplotlib.pyplot as plt\n",
    "\n",
    "# Equation based on Exercise\n",
    "def f(x): return (math.sin(math.sqrt(x)+1)*math.exp(math.sqrt(x)))/math.sqrt(x)\n",
    "\n",
    "print('\\nWe can see the range of debye constants (U) from 0 to 10, in intervals 0.5 :')\n",
    "debye = np.arange(1,10.5,0.5)\n",
    "for y in range(len(debye)):\n",
    "    print(float(debye[y]))\n",
    "    \n",
    "# Get u variable as the upper limit of integral   \n",
    "# u = debye**-1 #Its representative by 1/U, where U is debye constant\n",
    "print('\\nBatas bawah = 1')\n",
    "print('Batas atas = U')\n",
    "j = []\n",
    "for i in range(1,len(debye)):\n",
    "    I,n = romberg(f,1,debye[i])\n",
    "    j.append(I)\n",
    "    print(\"\\nWhen, debye constant(U) =\",debye[i],'\\nIntegral =',I)\n",
    "    print(\"numEvals =\",n)\n",
    "y = np.delete(debye,[0])\n",
    "\n",
    "plt.plot(y,j,'.-g')\n",
    "plt.title('Plot the result', size=15)\n",
    "plt.xlabel('Konstanta Debye (u)',size=12)\n",
    "plt.ylabel('Hasil integral',size=12)\n",
    "plt.xticks(size=12)\n",
    "plt.yticks(size=12)\n",
    "plt.grid()\n",
    "plt.show()"
   ]
  }
 ],
 "metadata": {
  "kernelspec": {
   "display_name": "Python 3",
   "language": "python",
   "name": "python3"
  },
  "language_info": {
   "codemirror_mode": {
    "name": "ipython",
    "version": 3
   },
   "file_extension": ".py",
   "mimetype": "text/x-python",
   "name": "python",
   "nbconvert_exporter": "python",
   "pygments_lexer": "ipython3",
   "version": "3.7.3"
  }
 },
 "nbformat": 4,
 "nbformat_minor": 2
}
