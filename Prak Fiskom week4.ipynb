{
 "cells": [
  {
   "cell_type": "code",
   "execution_count": 1,
   "metadata": {},
   "outputs": [
    {
     "name": "stdout",
     "output_type": "stream",
     "text": [
      "M[1][1]: 1\n",
      "M[1][2]: 2\n",
      "M[1][3]: 3\n",
      "M[2][1]: 4\n",
      "M[2][2]: 5\n",
      "M[2][3]: 6\n",
      "M[3][1]: 7\n",
      "M[3][2]: 8\n",
      "M[3][3]: 9\n"
     ]
    },
    {
     "data": {
      "text/plain": [
       "array([[1, 2, 3],\n",
       "       [4, 5, 6],\n",
       "       [7, 8, 9]])"
      ]
     },
     "execution_count": 1,
     "metadata": {},
     "output_type": "execute_result"
    }
   ],
   "source": [
    "from numpy.linalg import *\n",
    "from numpy import *\n",
    "\n",
    "def input_matrix(dim):\n",
    "    M = []\n",
    "    for i in range (0,dim):\n",
    "        temp = []\n",
    "        for j in range(0,dim):\n",
    "            string = input('M['+str(i+1)+']['+str(j+1)+']: ')\n",
    "            temp.append(eval(string))\n",
    "        M.append(temp)\n",
    "    a = array(M)\n",
    "    return a\n",
    "\n",
    "input_matrix(3)"
   ]
  },
  {
   "cell_type": "code",
   "execution_count": 2,
   "metadata": {},
   "outputs": [],
   "source": [
    "#Membuat fungsi untuk menginput matrix A\n",
    "def input_matrixA(dim):\n",
    "    A = []\n",
    "    for i in range (0,dim):\n",
    "        temp = []\n",
    "        for j in range(0,dim):\n",
    "            masuk = input('['+str(i+1)+']['+str(j+1)+']: ')\n",
    "            temp.append(eval(masuk))\n",
    "        A.append(temp)\n",
    "    a = array(A)\n",
    "    return a\n",
    "\n",
    "#Membuat fungsi untuk menginput matrix B\n",
    "def input_matrixB(dim):\n",
    "    B = []\n",
    "    for i in range (0,dim):\n",
    "        tem = []\n",
    "        for j in range(0,dim):\n",
    "            mulai = input('['+str(i+1)+']['+str(j+1)+']: ')\n",
    "            tem.append(eval(mulai))\n",
    "        B.append(tem)\n",
    "    b = array(B)\n",
    "    return b\n"
   ]
  },
  {
   "cell_type": "code",
   "execution_count": 3,
   "metadata": {},
   "outputs": [],
   "source": [
    "#Membuat fungsi untuk mencari nilai determinan\n",
    "def determinan_matrix(dim):\n",
    "    Z = []\n",
    "    for i in range (0,dim):\n",
    "        tempat = []\n",
    "        for j in range(0,dim):\n",
    "            total = input('['+str(i+1)+']['+str(j+1)+']: ')\n",
    "            tempat.append(eval(total))\n",
    "        Z.append(tempat)\n",
    "    C = array(Z)\n",
    "    return C\n"
   ]
  },
  {
   "cell_type": "code",
   "execution_count": 4,
   "metadata": {},
   "outputs": [
    {
     "name": "stdout",
     "output_type": "stream",
     "text": [
      "[1][1]: 1\n",
      "[1][2]: 2\n",
      "[2][1]: 3\n",
      "[2][2]: 4\n",
      "[1][1]: 5\n",
      "[1][2]: 6\n",
      "[2][1]: 7\n",
      "[2][2]: 8\n"
     ]
    },
    {
     "data": {
      "text/plain": [
       "array([[19, 22],\n",
       "       [43, 50]])"
      ]
     },
     "execution_count": 4,
     "metadata": {},
     "output_type": "execute_result"
    }
   ],
   "source": [
    "input_matrixA(2).dot(input_matrixB(2)) #Mencari hasil perkalian berdasarkan matrix yang di input"
   ]
  },
  {
   "cell_type": "code",
   "execution_count": null,
   "metadata": {},
   "outputs": [
    {
     "name": "stdout",
     "output_type": "stream",
     "text": [
      "[1][1]: 1\n",
      "[1][2]: 2\n"
     ]
    }
   ],
   "source": [
    "input_matrixA(2)+input_matrixB(2) #Mencari hasil penjumlahan berdasarkan matrix yang di input"
   ]
  },
  {
   "cell_type": "code",
   "execution_count": null,
   "metadata": {},
   "outputs": [],
   "source": []
  }
 ],
 "metadata": {
  "kernelspec": {
   "display_name": "Python 3",
   "language": "python",
   "name": "python3"
  },
  "language_info": {
   "codemirror_mode": {
    "name": "ipython",
    "version": 3
   },
   "file_extension": ".py",
   "mimetype": "text/x-python",
   "name": "python",
   "nbconvert_exporter": "python",
   "pygments_lexer": "ipython3",
   "version": "3.7.3"
  }
 },
 "nbformat": 4,
 "nbformat_minor": 2
}
