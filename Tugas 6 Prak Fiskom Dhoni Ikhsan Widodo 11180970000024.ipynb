{
 "cells": [
  {
   "cell_type": "markdown",
   "metadata": {},
   "source": [
    "**Jawaban dari soal nomor 13 halaman 80**"
   ]
  },
  {
   "cell_type": "code",
   "execution_count": 1,
   "metadata": {},
   "outputs": [
    {
     "name": "stdout",
     "output_type": "stream",
     "text": [
      "Menggunakan Fungsi LUdecomp5\n",
      "Jawaban dari soal nomor 13 yaitu:\n",
      " x1  x2  x3  x4  x5\n",
      "[14. 18. 48. 56. 54.]\n",
      "\n",
      "Jawaban terverifikasi dan dapat dibuktikan dengan perhitungan manual \n"
     ]
    }
   ],
   "source": [
    "import numpy as np\n",
    "from LUdecomp5 import *\n",
    "d = np.array([2.0, 4.0, 4.0, 2.0, 3.0])\n",
    "e = np.ones((4))*(-1.0)\n",
    "f = np.array([0.0, 0.0, -2.0])\n",
    "\n",
    "b = np.ones((5))*(10.0) # Dimisalkan seluruh elemen/kolom pada matrix b memiliki nilai yang sama, yaitu: 10 (W/k)\n",
    "d,e,f = LUdecomp5(d,e,f)\n",
    "x = LUsolve5(d,e,f,b)\n",
    "\n",
    "print('Menggunakan Fungsi LUdecomp5\\nJawaban dari soal nomor 13 yaitu:')\n",
    "print(' x1  x2  x3  x4  x5')\n",
    "print(x)\n",
    "print('\\nJawaban terverifikasi dan dapat dibuktikan dengan perhitungan manual ')"
   ]
  },
  {
   "cell_type": "code",
   "execution_count": 3,
   "metadata": {},
   "outputs": [
    {
     "name": "stdout",
     "output_type": "stream",
     "text": [
      "[2. 0. 4. 4. 0. 2.]\n"
     ]
    }
   ],
   "source": [
    "import numpy as np\n",
    "from LUdecomp5 import *\n",
    "d = np.array([3.0,4.0,4.0,4.0,4.0,3.0])\n",
    "f = np.ones((4))*(1.0)\n",
    "e = np.ones((5))*(-2)\n",
    "\n",
    "b = np.array([10.0, -8.0, 10.0, 10.0, -8.0, 10.0])\n",
    "d,e,f = LUdecomp5(d,e,f)\n",
    "x = LUsolve5(d,e,f,b)\n",
    "print(x)\n"
   ]
  },
  {
   "cell_type": "code",
   "execution_count": 10,
   "metadata": {},
   "outputs": [
    {
     "name": "stdout",
     "output_type": "stream",
     "text": [
      "Number of equations ==> 20\n",
      "\n",
      "Number of iterations = 24\n",
      "\n",
      "Relaxation factor = 1.1640784937586701\n",
      "\n",
      "The solution is:\n",
      " [-1.70820388e-01 -6.52475707e-02 -2.49223244e-02 -9.51940244e-03\n",
      " -3.63588289e-03 -1.38824620e-03 -5.28855698e-04 -1.98320879e-04\n",
      " -6.61069586e-05  1.03334334e-12  6.61069617e-05  1.98320884e-04\n",
      "  5.28855691e-04  1.38824619e-03  3.63588287e-03  9.51940242e-03\n",
      "  2.49223244e-02  6.52475706e-02  1.70820387e-01  4.47213592e-01]\n"
     ]
    }
   ],
   "source": [
    "# Exampl3 2_17 halaman 95\n",
    "# Run the program with n = 20\n",
    "import numpy as np\n",
    "from gaussSeidel import *\n",
    "\n",
    "def iterEqs(x,omega):\n",
    "    n = len(x)\n",
    "    x[0] = omega*(x[1] - x[n-1])/3.0 + (1.0 - omega)*x[0]\n",
    "    for i in range(1,n-1):\n",
    "        x[i] = omega*(x[i-1] + x[i+1])/3.0 + (1.0 - omega)*x[i]\n",
    "    x[n-1] = omega*(1.0 - x[0] + x[n-2])/3.0 \\\n",
    "            + (1.0 - omega)*x[n-1]\n",
    "    return x\n",
    "\n",
    "n = eval(input(\"Number of equations ==> \"))\n",
    "x = np.zeros(n) #Apakah semuanya sama seperti ini? \n",
    "x,numIter,omega = gaussSeidel(iterEqs,x)\n",
    "print(\"\\nNumber of iterations =\",numIter)\n",
    "print(\"\\nRelaxation factor =\",omega)\n",
    "print(\"\\nThe solution is:\\n\",x)"
   ]
  }
 ],
 "metadata": {
  "kernelspec": {
   "display_name": "Python 3",
   "language": "python",
   "name": "python3"
  },
  "language_info": {
   "codemirror_mode": {
    "name": "ipython",
    "version": 3
   },
   "file_extension": ".py",
   "mimetype": "text/x-python",
   "name": "python",
   "nbconvert_exporter": "python",
   "pygments_lexer": "ipython3",
   "version": "3.7.3"
  }
 },
 "nbformat": 4,
 "nbformat_minor": 2
}
