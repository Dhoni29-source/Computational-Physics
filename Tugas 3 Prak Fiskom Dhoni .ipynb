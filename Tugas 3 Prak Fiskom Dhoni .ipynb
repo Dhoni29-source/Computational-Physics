{
 "cells": [
  {
   "cell_type": "markdown",
   "metadata": {},
   "source": [
    "# Dhoni Ikhsan Widodo 11180970000024 kelas 4A"
   ]
  },
  {
   "cell_type": "code",
   "execution_count": 2,
   "metadata": {},
   "outputs": [
    {
     "name": "stdout",
     "output_type": "stream",
     "text": [
      "Matrix: A\n",
      "    1   2   3\n",
      "    4   5   6\n",
      "    7   8   9\n",
      "Matrix: B\n",
      "    9   8   7\n",
      "    6   5   4\n",
      "    3   2   1\n",
      " \n",
      "Hasil matrix C:\n",
      "30 24 18 \n",
      "84 69 54 \n",
      "138 114 90 \n"
     ]
    }
   ],
   "source": [
    "#Perkalian Matrix orde 3\n",
    "A = [[1, 2, 3],\\\n",
    "     [4, 5, 6],\\\n",
    "     [7, 8, 9]]\n",
    "\n",
    "#Penempatan angka matrix A\n",
    "print(\"Matrix: A\")\n",
    "print(\"   \", A[0][0], \" \", A[0][1], \" \", A[0][2])\n",
    "print(\"   \", A[1][0], \" \", A[1][1], \" \", A[1][2])\n",
    "print(\"   \", A[2][0], \" \", A[2][1], \" \", A[2][2])\n",
    "\n",
    "B = [[9, 8, 7],\\\n",
    "     [6, 5, 4],\\\n",
    "     [3, 2, 1]]\n",
    "#Penempatan angka matrix B\n",
    "print(\"Matrix: B\")\n",
    "print(\"   \", B[0][0], \" \", B[0][1], \" \", B[0][2])\n",
    "print(\"   \", B[1][0], \" \", B[1][1], \" \", B[1][2])\n",
    "print(\"   \", B[2][0], \" \", B[2][1], \" \", B[2][2])\n",
    "\n",
    "C = [] #Untuk menampung hasil perhitungan menggunakan loop (for)\n",
    "\n",
    "#Menggunakan fungsi loop \"for\" untuk mengkalikan baris matrix A dengan kolom matrix B\n",
    "print(\" \") #Pemisah atau jarak\n",
    "print(\"Hasil matrix C:\")\n",
    "for i in range(0,3):\n",
    "    baris = []\n",
    "    for j in range(0,3):\n",
    "        total = 0\n",
    "        for k in range(0,3):\n",
    "            total = total + (A[i][k] * B[k][j])\n",
    "        baris.append(total)\n",
    "    C.append(baris)\n",
    "    \n",
    "for i in range(0,3):\n",
    "    for j in range(0,3):\n",
    "        print (C[i][j], end=' ')\n",
    "    print ()\n"
   ]
  }
 ],
 "metadata": {
  "kernelspec": {
   "display_name": "Python 3",
   "language": "python",
   "name": "python3"
  },
  "language_info": {
   "codemirror_mode": {
    "name": "ipython",
    "version": 3
   },
   "file_extension": ".py",
   "mimetype": "text/x-python",
   "name": "python",
   "nbconvert_exporter": "python",
   "pygments_lexer": "ipython3",
   "version": "3.7.3"
  }
 },
 "nbformat": 4,
 "nbformat_minor": 2
}
