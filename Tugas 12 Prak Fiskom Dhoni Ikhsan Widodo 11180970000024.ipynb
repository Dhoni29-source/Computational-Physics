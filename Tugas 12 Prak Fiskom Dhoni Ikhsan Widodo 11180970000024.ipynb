{
 "cells": [
  {
   "cell_type": "markdown",
   "metadata": {},
   "source": [
    "# Problem set 6.2, Number 13"
   ]
  },
  {
   "cell_type": "code",
   "execution_count": 1,
   "metadata": {},
   "outputs": [
    {
     "name": "stdout",
     "output_type": "stream",
     "text": [
      "Based Equation state on this problem\n",
      "The integral result with:\n",
      "the lower limit = 0.0 and the upper limit = 1.0\n",
      "The exact integral, rounded to six places is: 3.2667\n",
      "\n",
      "Number of Nodes : 455\n",
      "Integral Result = 3.26420\n",
      "Number of Error = 0.00250\n"
     ]
    }
   ],
   "source": [
    "import math\n",
    "from gaussQuad import *\n",
    "\n",
    "# Equation state based on Problem\n",
    "def f(x): return ((math.sqrt(2)-1)**2 - (math.sqrt(1+(x**2))-1)**2)**-0.5\n",
    "\n",
    "a = 0.0; b = 1.0;\n",
    "print('Based Equation state on this problem')\n",
    "print('The integral result with:')\n",
    "print('the lower limit =',a,'and the upper limit =',b)\n",
    "\n",
    "exact = 3.26670\n",
    "print('The exact integral, rounded to six places is:',exact)\n",
    "\n",
    "# Loop to find and print integral result\n",
    "for m in range(2,500):\n",
    "    I = gaussQuad(f,a,b,m)\n",
    "    if abs(I - exact) < 25e-4:\n",
    "        print('\\nNumber of Nodes :',m)\n",
    "        print(\"Integral Result =\",'{:7.5f}'.format(I))\n",
    "        print('Number of Error =','{:7.5f}'.format(exact-I))\n",
    "        break"
   ]
  },
  {
   "cell_type": "markdown",
   "metadata": {},
   "source": [
    "Semakin banyak iterasi yang digunakan, maka akan didapatkan hasil yang lebih akurat. Namun akan semakin lama juga perhitungan yang dilakukan oleh program komputer, sehingga memakan waktu yang lebih lama dalam proses mendapat hasil integral nya. "
   ]
  }
 ],
 "metadata": {
  "kernelspec": {
   "display_name": "Python 3",
   "language": "python",
   "name": "python3"
  },
  "language_info": {
   "codemirror_mode": {
    "name": "ipython",
    "version": 3
   },
   "file_extension": ".py",
   "mimetype": "text/x-python",
   "name": "python",
   "nbconvert_exporter": "python",
   "pygments_lexer": "ipython3",
   "version": "3.7.3"
  }
 },
 "nbformat": 4,
 "nbformat_minor": 2
}
