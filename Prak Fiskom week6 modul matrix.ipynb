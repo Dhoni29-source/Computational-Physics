{
 "cells": [
  {
   "cell_type": "code",
   "execution_count": 1,
   "metadata": {},
   "outputs": [
    {
     "name": "stdout",
     "output_type": "stream",
     "text": [
      "x=\n",
      " [ 0.65306122 -1.14285714  1.73469388]\n"
     ]
    }
   ],
   "source": [
    "import numpy as np\n",
    "from gaussElimin import *\n",
    "\n",
    "a = np.array([[2.0,-3.0,-1.0],[3.0,2.0,-5.0],[2.0,4.0,-1.0]])\n",
    "b = np.array([3.0,-9.0,-5.0])\n",
    "\n",
    "A = gaussElimin(a,b)\n",
    "print('x=\\n', A)"
   ]
  },
  {
   "cell_type": "code",
   "execution_count": 1,
   "metadata": {},
   "outputs": [
    {
     "name": "stdout",
     "output_type": "stream",
     "text": [
      "x=\n",
      " [  0.  -0.  -0. 200.]\n"
     ]
    }
   ],
   "source": [
    "import numpy as np\n",
    "from LU import *\n",
    "\n",
    "a = np.array([[200.0,-50.0,0.0,0.0],[50.0,-125.0,75.0,0.0],[0.0,75.0,-300.0,225.0]])\n",
    "b = np.array([0.0,0.0,0.0,200.0])\n",
    "\n",
    "a = LUdecomp(a)\n",
    "b = LUsolve(a,b)\n",
    "\n",
    "print('x=\\n', b)"
   ]
  },
  {
   "cell_type": "code",
   "execution_count": 3,
   "metadata": {},
   "outputs": [
    {
     "name": "stdout",
     "output_type": "stream",
     "text": [
      "Hasil perhitungan menggunakan LUdecomp3\n",
      "x =\n",
      " [ 2. -1.  1. -1.  2.]\n"
     ]
    }
   ],
   "source": [
    "import numpy as np\n",
    "from LUdecomp3 import *\n",
    "c = np.ones((4))*(-1.0)\n",
    "d = np.ones((5))*2.0\n",
    "e = c.copy()\n",
    "b = np.array([5.0, -5.0, 4.0, -5.0, 5.0])\n",
    "c,d,e = LUdecomp3(c,d,e)\n",
    "x = LUsolve3(c,d,e,b)\n",
    "print('Hasil perhitungan menggunakan LUdecomp3')\n",
    "print(\"x =\\n\",x)"
   ]
  },
  {
   "cell_type": "code",
   "execution_count": 8,
   "metadata": {},
   "outputs": [
    {
     "name": "stdout",
     "output_type": "stream",
     "text": [
      "Hasil perhitungan menggunakan LUdecomp5\n",
      "x =\n",
      " [-1.   0.6  1.2  0.2  5. ]\n"
     ]
    }
   ],
   "source": [
    "import numpy as np\n",
    "from LUdecomp5 import *\n",
    "d = np.ones((4))*(-1.0)\n",
    "e = np.array([2.0,4.0,4.0,2.0,3.0])\n",
    "f = d.copy()\n",
    "b = np.array([1.0, 2.0, 3.0, 4.0, 5.0])\n",
    "d,e,f = LUdecomp5(d,e,f)\n",
    "x = LUsolve5(d,e,f,b)\n",
    "# print(d,e,f)\n",
    "print('Hasil perhitungan menggunakan LUdecomp5')\n",
    "print(\"x =\\n\",x)"
   ]
  },
  {
   "cell_type": "code",
   "execution_count": 23,
   "metadata": {},
   "outputs": [
    {
     "name": "stdout",
     "output_type": "stream",
     "text": [
      "Hasil perhitungan Gauss-Pivot:\n",
      "[ 0.875 -1.25   2.25 ]\n"
     ]
    }
   ],
   "source": [
    "# Gauss Pivot halaman 73\n",
    "# Modul error masih belum ditemukan\n",
    "import numpy as np\n",
    "import swap\n",
    "# import error\n",
    "\n",
    "a = np.array([[2.0,-2.0,6.0],[-2.0,4.0,3.0],[-1.0,8.0,4.0]])\n",
    "b = np.array([16.0,0.0,-1.0])\n",
    "\n",
    "# def gaussPivot(a,b,tol=1.0e-12)\n",
    "def gaussPivot(a,b):\n",
    "    n = len(b)\n",
    "    \n",
    "    # Set up scale factors\n",
    "    s = np.zeros(n)\n",
    "    for i in range(n):\n",
    "        s[i] = max(np.abs(a[i,:]))\n",
    "    for k in range(0,n-1):\n",
    "\n",
    "    # Row interchange, if needed\n",
    "        p = np.argmax(np.abs(a[k:n,k])/s[k:n]) + k\n",
    "#         if abs(a[p,k]) < tol: error.err('Matrix is singular')\n",
    "        if p != k:\n",
    "            swap.swapRows(b,k,p)\n",
    "            swap.swapRows(s,k,p)\n",
    "            swap.swapRows(a,k,p)\n",
    "            \n",
    "    # Elimination\n",
    "    for i in range(k+1,n):\n",
    "        if a[i,k] != 0.0:\n",
    "            lam = a[i,k]/a[k,k]\n",
    "            a[i,k+1:n] = a[i,k+1:n] - lam*a[k,k+1:n]\n",
    "            b[i] = b[i] - lam*b[k]\n",
    "#     if abs(a[n-1,n-1]) < tol: error.err('Matrix is singular')\n",
    "\n",
    "    # Back substitution\n",
    "    b[n-1] = b[n-1]/a[n-1,n-1]\n",
    "    for k in range(n-2,-1,-1):\n",
    "        b[k] = (b[k] - np.dot(a[k,k+1:n],b[k+1:n]))/a[k,k]\n",
    "    return b\n",
    "\n",
    "print('Hasil perhitungan Gauss-Pivot:')\n",
    "print(gaussPivot(a,b))"
   ]
  },
  {
   "cell_type": "code",
   "execution_count": 33,
   "metadata": {},
   "outputs": [
    {
     "name": "stdout",
     "output_type": "stream",
     "text": [
      "Hasil perhitungan LUdecomp:\n",
      "(array([[-2.  ,  4.  ,  3.  ],\n",
      "       [-1.  ,  8.  ,  4.  ],\n",
      "       [ 2.  , -0.25,  7.  ]]), array([1, 2, 0]))\n",
      "[-6.07142857  4.07142857 -4.14285714]\n"
     ]
    }
   ],
   "source": [
    "import numpy as np\n",
    "import swap\n",
    "# import error\n",
    "\n",
    "a = np.array([[2.0,-2.0,6.0],[-2.0,4.0,3.0],[-1.0,8.0,4.0]])\n",
    "b = np.array([16.0,0.0,-1.0])\n",
    "\n",
    "# def LUdecomp(a,tol=1.0e-9):\n",
    "def LUdecomp(a):\n",
    "    n = len(a)\n",
    "    seq = np.array(range(n))\n",
    "\n",
    "    # Set up scale factors\n",
    "    s = np.zeros((n))\n",
    "    for i in range(n):\n",
    "        s[i] = max(abs(a[i,:]))\n",
    "    \n",
    "    for k in range(0,n-1):\n",
    "    \n",
    "        # Row interchange, if needed\n",
    "        p = np.argmax(np.abs(a[k:n,k])/s[k:n]) + k\n",
    "#         if abs(a[p,k]) < tol: error.err('Matrix is singular')\n",
    "        if p != k:\n",
    "            swap.swapRows(s,k,p)\n",
    "            swap.swapRows(a,k,p)\n",
    "            swap.swapRows(seq,k,p)\n",
    "\n",
    "        # Elimination\n",
    "    for i in range(k+1,n):\n",
    "        if a[i,k] != 0.0:\n",
    "            lam = a[i,k]/a[k,k]\n",
    "            a[i,k+1:n] = a[i,k+1:n] - lam*a[k,k+1:n]\n",
    "            a[i,k] = lam\n",
    "    return a,seq\n",
    "\n",
    "def LUsolve(a,b,seq):\n",
    "    n = len(a)\n",
    "    \n",
    "    # Rearrange constant vector; store it in [x]\n",
    "    x = b.copy()\n",
    "    for i in range(n):\n",
    "        x[i] = b[seq[i]]\n",
    "\n",
    "    # Solution\n",
    "    for k in range(1,n):\n",
    "        x[k] = x[k] - np.dot(a[k,0:k],x[0:k])\n",
    "    x[n-1] = x[n-1]/a[n-1,n-1]\n",
    "    for k in range(n-2,-1,-1):\n",
    "        x[k] = (x[k] - np.dot(a[k,k+1:n],x[k+1:n]))/a[k,k]\n",
    "    return x\n",
    "\n",
    "print('Hasil perhitungan LUdecomp:')\n",
    "print(LUdecomp(a))\n",
    "# print(LUsolve(a,b,....))"
   ]
  }
 ],
 "metadata": {
  "kernelspec": {
   "display_name": "Python 3",
   "language": "python",
   "name": "python3"
  },
  "language_info": {
   "codemirror_mode": {
    "name": "ipython",
    "version": 3
   },
   "file_extension": ".py",
   "mimetype": "text/x-python",
   "name": "python",
   "nbconvert_exporter": "python",
   "pygments_lexer": "ipython3",
   "version": "3.7.3"
  }
 },
 "nbformat": 4,
 "nbformat_minor": 2
}
