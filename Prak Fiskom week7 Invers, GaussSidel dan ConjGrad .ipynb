{
 "cells": [
  {
   "cell_type": "markdown",
   "metadata": {},
   "source": [
    "**Code untuk matrix invers**"
   ]
  },
  {
   "cell_type": "code",
   "execution_count": 21,
   "metadata": {},
   "outputs": [
    {
     "name": "stdout",
     "output_type": "stream",
     "text": [
      "\n",
      "aInv =\n",
      " [[ 1.66666667 -2.22222222 -1.11111111]\n",
      " [ 1.25       -0.83333333 -1.66666667]\n",
      " [ 0.5         1.          0.        ]]\n",
      "\n",
      "Check: a*aInv =\n",
      " [[ 1.00000000e+00 -4.44089210e-16 -1.11022302e-16]\n",
      " [ 0.00000000e+00  1.00000000e+00  5.55111512e-17]\n",
      " [ 0.00000000e+00 -3.33066907e-16  1.00000000e+00]]\n"
     ]
    }
   ],
   "source": [
    "# Example 2_13 halaman 85 \n",
    "import numpy as np\n",
    "from LUpivot import *\n",
    "\n",
    "def matInv(a):\n",
    "    n = len(a[0])\n",
    "    aInv = np.identity(n)\n",
    "    a,seq = LUdecomp(a)\n",
    "    for i in range(n):\n",
    "        aInv[:,i] = LUsolve(a,aInv[:,i],seq)\n",
    "    return aInv\n",
    "\n",
    "a = np.array([[ 0.6, -0.4, 1.0],\\\n",
    "              [-0.3, 0.2, 0.5],\\\n",
    "              [ 0.6, -1.0, 0.5]])\n",
    "aOrig = a.copy() # Save original [a]\n",
    "aInv = matInv(a) # Invert [a] (original [a] is destroyed)\n",
    "print(\"\\naInv =\\n\",aInv)\n",
    "print(\"\\nCheck: a*aInv =\\n\", np.dot(aOrig,aInv))"
   ]
  },
  {
   "cell_type": "code",
   "execution_count": 22,
   "metadata": {},
   "outputs": [
    {
     "name": "stdout",
     "output_type": "stream",
     "text": [
      "\n",
      "The inverse matrix is:\n",
      " [[0.84 0.68 0.52 0.36 0.2  0.04]\n",
      " [0.68 1.36 1.04 0.72 0.4  0.08]\n",
      " [0.52 1.04 1.56 1.08 0.6  0.12]\n",
      " [0.36 0.72 1.08 1.44 0.8  0.16]\n",
      " [0.2  0.4  0.6  0.8  1.   0.2 ]\n",
      " [0.04 0.08 0.12 0.16 0.2  0.24]]\n"
     ]
    }
   ],
   "source": [
    "# Example 2_14 halaman 86\n",
    "import numpy as np\n",
    "from LUdecomp3 import *\n",
    "n=6\n",
    "\n",
    "#input matrix\n",
    "d = np.ones((n))*2.0\n",
    "d[n-1] = 5.0\n",
    "# d = np.array([2.0,2.0,2.0,2.0,2.0,5.0])\n",
    "e = np.ones((n-1))*(-1.0)\n",
    "c = e.copy()\n",
    "\n",
    "#Code untuk invers\n",
    "aInv = np.identity(n)\n",
    "c,d,e = LUdecomp3(c,d,e)\n",
    "for i in range(n):\n",
    "    aInv[:,i] = LUsolve3(c,d,e,aInv[:,i])\n",
    "print(\"\\nThe inverse matrix is:\\n\",aInv)"
   ]
  },
  {
   "cell_type": "markdown",
   "metadata": {},
   "source": [
    "**Code untuk Gauss Sidel**"
   ]
  },
  {
   "cell_type": "code",
   "execution_count": 65,
   "metadata": {},
   "outputs": [
    {
     "name": "stdout",
     "output_type": "stream",
     "text": [
      "Number of equations ==> 20\n",
      "\n",
      "Number of iterations = 259\n",
      "\n",
      "Relaxation factor = 1.7054523107131407\n",
      "\n",
      "The solution is:\n",
      " [-4.50000000e+00 -4.00000000e+00 -3.50000000e+00 -3.00000000e+00\n",
      " -2.50000000e+00 -2.00000000e+00 -1.50000000e+00 -9.99999997e-01\n",
      " -4.99999998e-01  2.14046747e-09  5.00000002e-01  1.00000000e+00\n",
      "  1.50000000e+00  2.00000000e+00  2.50000000e+00  3.00000000e+00\n",
      "  3.50000000e+00  4.00000000e+00  4.50000000e+00  5.00000000e+00]\n"
     ]
    }
   ],
   "source": [
    "# Exampl3 2_17 halaman 95\n",
    "# Run the program with n = 20\n",
    "# x[n-1] = omega*(1.0 - x[0] + x[n-2])/2.0 \\\n",
    "#             + (1.0 - omega)*x[n-1]\n",
    "\n",
    "import numpy as np\n",
    "from gaussSeidel import *\n",
    "\n",
    "def iterEqs(x,omega):\n",
    "    n = len(x)\n",
    "    x[0] = omega*(x[1] - x[n-1])/2.0 + (1.0 - omega)*x[0]\n",
    "    for i in range(1,n-1):\n",
    "        x[i] = omega*(x[i-1] + x[i+1])/2.0 + (1.0 - omega)*x[i]\n",
    "    x[n-1] = omega*(1.0 - x[0] + x[n-2])/2.0 \\\n",
    "            + (1.0 - omega)*x[n-1]\n",
    "    return x\n",
    "\n",
    "n = eval(input(\"Number of equations ==> \"))\n",
    "x = np.zeros(n) #Apakah semuanya sama seperti ini? \n",
    "x,numIter,omega = gaussSeidel(iterEqs,x)\n",
    "print(\"\\nNumber of iterations =\",numIter)\n",
    "print(\"\\nRelaxation factor =\",omega)\n",
    "print(\"\\nThe solution is:\\n\",x)"
   ]
  },
  {
   "cell_type": "code",
   "execution_count": 3,
   "metadata": {},
   "outputs": [],
   "source": [
    "# Exampl3 2_17 halaman 95\n",
    "# Run the program with n = 20\n",
    "# x[n-1] = omega*(1.0 - x[0] - x[n-2])/2.0 \\\n",
    "#             + (1.0 - omega)*x[n-1]\n",
    "import numpy as np\n",
    "from gaussSeidel import *\n",
    "def iterEqs(x,omega):\n",
    "    n = len(x)\n",
    "    x[0] = omega*(x[1] - x[n-1])/2.0 + (1.0 - omega)*x[0]\n",
    "    for i in range(1,n-1):\n",
    "        x[i] = omega*(x[i-1] + x[i+1])/2.0 + (1.0 - omega)*x[i]\n",
    "    x[n-1] = omega*(1.0 - x[0] - x[n-2])/2.0 \\\n",
    "            + (1.0 - omega)*x[n-1]\n",
    "    return x\n",
    "n = eval(input(\"Number of equations ==> \"))\n",
    "x = np.zeros(n)\n",
    "x,numIter,omega = gaussSeidel(iterEqs,x)\n",
    "print(\"\\nNumber of iterations =\",numIter)\n",
    "print(\"\\nRelaxation factor =\",omega)\n",
    "print(\"\\nThe solution is:\\n\",x)"
   ]
  },
  {
   "cell_type": "code",
   "execution_count": 1,
   "metadata": {},
   "outputs": [
    {
     "name": "stdout",
     "output_type": "stream",
     "text": [
      "Number of equations ==> 20\n",
      "\n",
      "The solution is:\n",
      " [-4.5 -4.  -3.5 -3.  -2.5 -2.  -1.5 -1.  -0.5  0.   0.5  1.   1.5  2.\n",
      "  2.5  3.   3.5  4.   4.5  5. ]\n",
      "\n",
      "Number of iterations = 9\n"
     ]
    }
   ],
   "source": [
    "# Konjugat Gradien\n",
    "# Example 2_18 halaman 97\n",
    "# Run the program with n = 20\n",
    "import numpy as np\n",
    "from conjGrad import *\n",
    "\n",
    "def Ax(v):\n",
    "    n = len(v)\n",
    "    Ax = np.zeros(n)\n",
    "    Ax[0] = 2.0*v[0] - v[1]+v[n-1]\n",
    "    Ax[1:n-1] = -v[0:n-2] + 2.0*v[1:n-1] -v[2:n]\n",
    "    Ax[n-1] = -v[n-2] + 2.0*v[n-1] + v[0]\n",
    "    return Ax\n",
    "\n",
    "n = eval(input(\"Number of equations ==> \"))\n",
    "b = np.zeros(n)\n",
    "b[n-1] = 1.0\n",
    "x = np.zeros(n)\n",
    "x,numIter = conjGrad(Ax,x,b)\n",
    "print(\"\\nThe solution is:\\n\",x)\n",
    "print(\"\\nNumber of iterations =\",numIter)"
   ]
  },
  {
   "cell_type": "code",
   "execution_count": 33,
   "metadata": {},
   "outputs": [
    {
     "name": "stdout",
     "output_type": "stream",
     "text": [
      "Number of equations ==> 20\n",
      "\n",
      "Number of iterations = 20\n",
      "\n",
      "Relaxation factor = 1.0963210904923082\n",
      "\n",
      "The solution is:\n",
      " [-6.69872981e+00 -1.79491924e+00 -4.80947157e-01 -1.28869386e-01\n",
      " -3.45303867e-02 -9.25216104e-03 -2.47825742e-03 -6.60868644e-04\n",
      " -1.65217160e-04  3.74899724e-13  1.65217162e-04  6.60868645e-04\n",
      "  2.47825742e-03  9.25216104e-03  3.45303867e-02  1.28869386e-01\n",
      "  4.80947157e-01  1.79491924e+00  6.69872981e+00  2.50000000e+01]\n"
     ]
    }
   ],
   "source": [
    "# Soal nomor 17 hlm 100\n",
    "import numpy as np\n",
    "from gaussSeidel import *\n",
    "def iterEqs(x,omega):\n",
    "    n = len(x)\n",
    "    x[0] = omega*(x[1] - x[n-1])/4.0 + (1.0 - omega)*x[0]\n",
    "    for i in range(1,n-1):\n",
    "        x[i] = omega*(x[i-1] + x[i+1])/4.0 + (1.0 - omega)*x[i]\n",
    "    x[n-1] = omega*(100.0 - x[0] - x[n-2])/4.0 \\\n",
    "            + (1.0 - omega)*x[n-1]\n",
    "    return x\n",
    "n = eval(input(\"Number of equations ==> \"))\n",
    "x = np.zeros(n)\n",
    "x,numIter,omega = gaussSeidel(iterEqs,x)\n",
    "print(\"\\nNumber of iterations =\",numIter)\n",
    "print(\"\\nRelaxation factor =\",omega)\n",
    "print(\"\\nThe solution is:\\n\",x)"
   ]
  },
  {
   "cell_type": "code",
   "execution_count": 15,
   "metadata": {},
   "outputs": [
    {
     "name": "stdout",
     "output_type": "stream",
     "text": [
      "Number of equations ==> 6\n"
     ]
    },
    {
     "ename": "IndexError",
     "evalue": "index 6 is out of bounds for axis 0 with size 6",
     "output_type": "error",
     "traceback": [
      "\u001b[1;31m---------------------------------------------------------------------------\u001b[0m",
      "\u001b[1;31mIndexError\u001b[0m                                Traceback (most recent call last)",
      "\u001b[1;32m<ipython-input-15-52b127f4b1d3>\u001b[0m in \u001b[0;36m<module>\u001b[1;34m\u001b[0m\n\u001b[0;32m     12\u001b[0m \u001b[0mn\u001b[0m \u001b[1;33m=\u001b[0m \u001b[0meval\u001b[0m\u001b[1;33m(\u001b[0m\u001b[0minput\u001b[0m\u001b[1;33m(\u001b[0m\u001b[1;34m\"Number of equations ==> \"\u001b[0m\u001b[1;33m)\u001b[0m\u001b[1;33m)\u001b[0m\u001b[1;33m\u001b[0m\u001b[1;33m\u001b[0m\u001b[0m\n\u001b[0;32m     13\u001b[0m \u001b[0mx\u001b[0m \u001b[1;33m=\u001b[0m \u001b[0mnp\u001b[0m\u001b[1;33m.\u001b[0m\u001b[0mzeros\u001b[0m\u001b[1;33m(\u001b[0m\u001b[0mn\u001b[0m\u001b[1;33m)\u001b[0m\u001b[1;33m\u001b[0m\u001b[1;33m\u001b[0m\u001b[0m\n\u001b[1;32m---> 14\u001b[1;33m \u001b[0mx\u001b[0m\u001b[1;33m,\u001b[0m\u001b[0mnumIter\u001b[0m\u001b[1;33m,\u001b[0m\u001b[0momega\u001b[0m \u001b[1;33m=\u001b[0m \u001b[0mgaussSeidel\u001b[0m\u001b[1;33m(\u001b[0m\u001b[0miterEqs\u001b[0m\u001b[1;33m,\u001b[0m\u001b[0mx\u001b[0m\u001b[1;33m)\u001b[0m\u001b[1;33m\u001b[0m\u001b[1;33m\u001b[0m\u001b[0m\n\u001b[0m\u001b[0;32m     15\u001b[0m \u001b[0mprint\u001b[0m\u001b[1;33m(\u001b[0m\u001b[1;34m\"\\nNumber of iterations =\"\u001b[0m\u001b[1;33m,\u001b[0m\u001b[0mnumIter\u001b[0m\u001b[1;33m)\u001b[0m\u001b[1;33m\u001b[0m\u001b[1;33m\u001b[0m\u001b[0m\n\u001b[0;32m     16\u001b[0m \u001b[0mprint\u001b[0m\u001b[1;33m(\u001b[0m\u001b[1;34m\"\\nRelaxation factor =\"\u001b[0m\u001b[1;33m,\u001b[0m\u001b[0momega\u001b[0m\u001b[1;33m)\u001b[0m\u001b[1;33m\u001b[0m\u001b[1;33m\u001b[0m\u001b[0m\n",
      "\u001b[1;32m~\\Anaconda3\\Dhoni\\Fiskom dan Prak fiskom\\gaussSeidel.py\u001b[0m in \u001b[0;36mgaussSeidel\u001b[1;34m(iterEqs, x, tol)\u001b[0m\n\u001b[0;32m      7\u001b[0m     \u001b[1;32mfor\u001b[0m \u001b[0mi\u001b[0m \u001b[1;32min\u001b[0m \u001b[0mrange\u001b[0m\u001b[1;33m(\u001b[0m\u001b[1;36m1\u001b[0m\u001b[1;33m,\u001b[0m\u001b[1;36m501\u001b[0m\u001b[1;33m)\u001b[0m\u001b[1;33m:\u001b[0m\u001b[1;33m\u001b[0m\u001b[1;33m\u001b[0m\u001b[0m\n\u001b[0;32m      8\u001b[0m         \u001b[0mxOld\u001b[0m \u001b[1;33m=\u001b[0m \u001b[0mx\u001b[0m\u001b[1;33m.\u001b[0m\u001b[0mcopy\u001b[0m\u001b[1;33m(\u001b[0m\u001b[1;33m)\u001b[0m\u001b[1;33m\u001b[0m\u001b[1;33m\u001b[0m\u001b[0m\n\u001b[1;32m----> 9\u001b[1;33m         \u001b[0mx\u001b[0m \u001b[1;33m=\u001b[0m \u001b[0miterEqs\u001b[0m\u001b[1;33m(\u001b[0m\u001b[0mx\u001b[0m\u001b[1;33m,\u001b[0m\u001b[0momega\u001b[0m\u001b[1;33m)\u001b[0m\u001b[1;33m\u001b[0m\u001b[1;33m\u001b[0m\u001b[0m\n\u001b[0m\u001b[0;32m     10\u001b[0m         \u001b[0mdx\u001b[0m \u001b[1;33m=\u001b[0m \u001b[0mmath\u001b[0m\u001b[1;33m.\u001b[0m\u001b[0msqrt\u001b[0m\u001b[1;33m(\u001b[0m\u001b[0mnp\u001b[0m\u001b[1;33m.\u001b[0m\u001b[0mdot\u001b[0m\u001b[1;33m(\u001b[0m\u001b[0mx\u001b[0m\u001b[1;33m-\u001b[0m\u001b[0mxOld\u001b[0m\u001b[1;33m,\u001b[0m\u001b[0mx\u001b[0m\u001b[1;33m-\u001b[0m\u001b[0mxOld\u001b[0m\u001b[1;33m)\u001b[0m\u001b[1;33m)\u001b[0m\u001b[1;33m\u001b[0m\u001b[1;33m\u001b[0m\u001b[0m\n\u001b[0;32m     11\u001b[0m         \u001b[1;32mif\u001b[0m \u001b[0mdx\u001b[0m \u001b[1;33m<\u001b[0m \u001b[0mtol\u001b[0m\u001b[1;33m:\u001b[0m \u001b[1;32mreturn\u001b[0m \u001b[0mx\u001b[0m\u001b[1;33m,\u001b[0m\u001b[0mi\u001b[0m\u001b[1;33m,\u001b[0m\u001b[0momega\u001b[0m\u001b[1;33m\u001b[0m\u001b[1;33m\u001b[0m\u001b[0m\n",
      "\u001b[1;32m<ipython-input-15-52b127f4b1d3>\u001b[0m in \u001b[0;36miterEqs\u001b[1;34m(x, omega)\u001b[0m\n\u001b[0;32m      6\u001b[0m     \u001b[0mx\u001b[0m\u001b[1;33m[\u001b[0m\u001b[1;36m0\u001b[0m\u001b[1;33m]\u001b[0m \u001b[1;33m=\u001b[0m \u001b[0momega\u001b[0m\u001b[1;33m*\u001b[0m\u001b[1;33m(\u001b[0m\u001b[1;36m10\u001b[0m \u001b[1;33m+\u001b[0m \u001b[1;36m2\u001b[0m\u001b[1;33m*\u001b[0m\u001b[0mx\u001b[0m\u001b[1;33m[\u001b[0m\u001b[1;36m1\u001b[0m\u001b[1;33m]\u001b[0m \u001b[1;33m-\u001b[0m \u001b[0mx\u001b[0m\u001b[1;33m[\u001b[0m\u001b[1;36m2\u001b[0m\u001b[1;33m]\u001b[0m \u001b[1;33m-\u001b[0m \u001b[0mx\u001b[0m\u001b[1;33m[\u001b[0m\u001b[0mn\u001b[0m\u001b[1;33m-\u001b[0m\u001b[1;36m1\u001b[0m\u001b[1;33m]\u001b[0m\u001b[1;33m)\u001b[0m\u001b[1;33m/\u001b[0m\u001b[1;36m3.0\u001b[0m \u001b[1;33m+\u001b[0m \u001b[1;33m(\u001b[0m\u001b[1;36m1.0\u001b[0m \u001b[1;33m-\u001b[0m \u001b[0momega\u001b[0m\u001b[1;33m)\u001b[0m\u001b[1;33m*\u001b[0m\u001b[0mx\u001b[0m\u001b[1;33m[\u001b[0m\u001b[1;36m0\u001b[0m\u001b[1;33m]\u001b[0m\u001b[1;33m\u001b[0m\u001b[1;33m\u001b[0m\u001b[0m\n\u001b[0;32m      7\u001b[0m     \u001b[1;32mfor\u001b[0m \u001b[0mi\u001b[0m \u001b[1;32min\u001b[0m \u001b[0mrange\u001b[0m\u001b[1;33m(\u001b[0m\u001b[1;36m1\u001b[0m\u001b[1;33m,\u001b[0m\u001b[0mn\u001b[0m\u001b[1;33m-\u001b[0m\u001b[1;36m1\u001b[0m\u001b[1;33m)\u001b[0m\u001b[1;33m:\u001b[0m\u001b[1;33m\u001b[0m\u001b[1;33m\u001b[0m\u001b[0m\n\u001b[1;32m----> 8\u001b[1;33m         \u001b[0mx\u001b[0m\u001b[1;33m[\u001b[0m\u001b[0mi\u001b[0m\u001b[1;33m]\u001b[0m \u001b[1;33m=\u001b[0m \u001b[0momega\u001b[0m\u001b[1;33m*\u001b[0m\u001b[1;33m(\u001b[0m\u001b[1;33m-\u001b[0m\u001b[1;36m8\u001b[0m \u001b[1;33m+\u001b[0m \u001b[0mx\u001b[0m\u001b[1;33m[\u001b[0m\u001b[0mi\u001b[0m\u001b[1;33m-\u001b[0m\u001b[1;36m2\u001b[0m\u001b[1;33m]\u001b[0m \u001b[1;33m+\u001b[0m \u001b[1;36m2\u001b[0m\u001b[1;33m*\u001b[0m\u001b[0mx\u001b[0m\u001b[1;33m[\u001b[0m\u001b[0mi\u001b[0m\u001b[1;33m+\u001b[0m\u001b[1;36m1\u001b[0m\u001b[1;33m]\u001b[0m \u001b[1;33m-\u001b[0m \u001b[0mx\u001b[0m\u001b[1;33m[\u001b[0m\u001b[0mi\u001b[0m\u001b[1;33m+\u001b[0m\u001b[1;36m2\u001b[0m\u001b[1;33m]\u001b[0m\u001b[1;33m)\u001b[0m\u001b[1;33m/\u001b[0m\u001b[1;36m3.0\u001b[0m \u001b[1;33m+\u001b[0m \u001b[1;33m(\u001b[0m\u001b[1;36m1.0\u001b[0m \u001b[1;33m-\u001b[0m \u001b[0momega\u001b[0m\u001b[1;33m)\u001b[0m\u001b[1;33m*\u001b[0m\u001b[0mx\u001b[0m\u001b[1;33m[\u001b[0m\u001b[0mi\u001b[0m\u001b[1;33m]\u001b[0m\u001b[1;33m\u001b[0m\u001b[1;33m\u001b[0m\u001b[0m\n\u001b[0m\u001b[0;32m      9\u001b[0m     \u001b[0mx\u001b[0m\u001b[1;33m[\u001b[0m\u001b[0mn\u001b[0m\u001b[1;33m-\u001b[0m\u001b[1;36m1\u001b[0m\u001b[1;33m]\u001b[0m \u001b[1;33m=\u001b[0m \u001b[0momega\u001b[0m\u001b[1;33m*\u001b[0m\u001b[1;33m(\u001b[0m\u001b[1;36m10.0\u001b[0m \u001b[1;33m-\u001b[0m \u001b[0mx\u001b[0m\u001b[1;33m[\u001b[0m\u001b[1;36m0\u001b[0m\u001b[1;33m]\u001b[0m \u001b[1;33m-\u001b[0m \u001b[0mx\u001b[0m\u001b[1;33m[\u001b[0m\u001b[1;36m3\u001b[0m\u001b[1;33m]\u001b[0m \u001b[1;33m-\u001b[0m \u001b[1;36m2\u001b[0m\u001b[1;33m*\u001b[0m\u001b[0mx\u001b[0m\u001b[1;33m[\u001b[0m\u001b[0mn\u001b[0m\u001b[1;33m-\u001b[0m\u001b[1;36m2\u001b[0m\u001b[1;33m]\u001b[0m\u001b[1;33m)\u001b[0m\u001b[1;33m/\u001b[0m\u001b[1;36m3.0\u001b[0m\u001b[0;31m \u001b[0m\u001b[0;31m\\\u001b[0m\u001b[1;33m\u001b[0m\u001b[1;33m\u001b[0m\u001b[0m\n\u001b[0;32m     10\u001b[0m             \u001b[1;33m+\u001b[0m \u001b[1;33m(\u001b[0m\u001b[1;36m1.0\u001b[0m \u001b[1;33m-\u001b[0m \u001b[0momega\u001b[0m\u001b[1;33m)\u001b[0m\u001b[1;33m*\u001b[0m\u001b[0mx\u001b[0m\u001b[1;33m[\u001b[0m\u001b[0mn\u001b[0m\u001b[1;33m-\u001b[0m\u001b[1;36m1\u001b[0m\u001b[1;33m]\u001b[0m\u001b[1;33m\u001b[0m\u001b[1;33m\u001b[0m\u001b[0m\n",
      "\u001b[1;31mIndexError\u001b[0m: index 6 is out of bounds for axis 0 with size 6"
     ]
    }
   ],
   "source": [
    "# Soal nomor 16 hlm 100\n",
    "# ada salah di bagian perumusan x[0], x[i] dan x[n-1]\n",
    "import numpy as np\n",
    "from gaussSeidel import *\n",
    "def iterEqs(x,omega):\n",
    "    n = len(x)\n",
    "    x[0] = omega*(10 + 2*x[1] - x[2] - x[n-1])/3.0 + (1.0 - omega)*x[0]\n",
    "    for i in range(1,n-1):\n",
    "        x[i] = omega*(-8 + x[i-2] + 2*x[i+1] - x[i+2])/3.0 + (1.0 - omega)*x[i]\n",
    "    x[n-1] = omega*(10.0 - x[0] - x[3] - 2*x[n-2])/3.0 \\\n",
    "            + (1.0 - omega)*x[n-1]\n",
    "    return x\n",
    "n = eval(input(\"Number of equations ==> \"))\n",
    "x = np.zeros(n)\n",
    "x,numIter,omega = gaussSeidel(iterEqs,x)\n",
    "print(\"\\nNumber of iterations =\",numIter)\n",
    "print(\"\\nRelaxation factor =\",omega)\n",
    "print(\"\\nThe solution is:\\n\",x)"
   ]
  },
  {
   "cell_type": "code",
   "execution_count": 7,
   "metadata": {},
   "outputs": [
    {
     "name": "stdout",
     "output_type": "stream",
     "text": [
      "Number of equations ==> 4\n",
      "\n",
      "Number of iterations = 14\n",
      "\n",
      "Relaxation factor = 1.044640519135955\n",
      "\n",
      "The solution is:\n",
      " [4.97607655 4.90430622 4.64114833 3.66028708]\n"
     ]
    }
   ],
   "source": [
    "# Soal Nomor 13 hlm 100\n",
    "# Number of equation = 4 karena matrix nya orde 4\n",
    "# Harusnya omega = 1.1 dan bi/Aii sesuai note yg ada di soal, pasti hasilnya lebih akurat\n",
    "import numpy as np\n",
    "from gaussSeidel import *\n",
    "def iterEqs(x,omega):\n",
    "    n = len(x)\n",
    "    x[0] = omega*(15 + x[1])/4.0 + (1.0 - omega)*x[0]\n",
    "    for i in range(1,n-1):\n",
    "        x[i] = omega*(10 + x[i-1] + x[i+1])/4.0 + (1.0 - omega)*x[i]\n",
    "    x[n-1] = omega*(10.0 + x[n-2])/4.0 \\\n",
    "            + (1.0 - omega)*x[n-1]\n",
    "    return x\n",
    "n = eval(input(\"Number of equations ==> \"))\n",
    "x = np.zeros(n)\n",
    "x,numIter,omega = gaussSeidel(iterEqs,x)\n",
    "print(\"\\nNumber of iterations =\",numIter)\n",
    "print(\"\\nRelaxation factor =\",omega)\n",
    "print(\"\\nThe solution is:\\n\",x)"
   ]
  },
  {
   "cell_type": "code",
   "execution_count": 6,
   "metadata": {},
   "outputs": [
    {
     "name": "stdout",
     "output_type": "stream",
     "text": [
      "Hasil perhitungan menggunakan LUdecomp3\n",
      "x =\n",
      " [5. 5. 5. 5.]\n"
     ]
    }
   ],
   "source": [
    "# Pembuktian soal nomor 13 hlm 100 pake LUdecomp3\n",
    "import numpy as np\n",
    "from LUdecomp3 import *\n",
    "c = np.ones((3))*(-1.0)\n",
    "d = np.array([4.0,4.0,4.0,3.0])\n",
    "e = c.copy()\n",
    "b = np.array([15.0, 10.0, 10.0, 10.0])\n",
    "c,d,e = LUdecomp3(c,d,e)\n",
    "x = LUsolve3(c,d,e,b)\n",
    "print('Hasil perhitungan menggunakan LUdecomp3')\n",
    "print(\"x =\\n\",x)"
   ]
  },
  {
   "cell_type": "code",
   "execution_count": 8,
   "metadata": {},
   "outputs": [
    {
     "name": "stdout",
     "output_type": "stream",
     "text": [
      "Number of equations ==> 3\n",
      "\n",
      "Number of iterations = 14\n",
      "\n",
      "The solution is:\n",
      " [3. 1. 1.]\n"
     ]
    }
   ],
   "source": [
    "# Example 2.15 hlm 92\n",
    "# Gauss seidel tanpa relaksasi\n",
    "# Number of equation = 3 karena matrix nya 3\n",
    "import numpy as np\n",
    "from seidel import *\n",
    "def iterEqs(x):\n",
    "    n = len(x)\n",
    "    x[0] = (12.0 + x[1] - x[n-1])/4.0 \n",
    "    for i in range(1,n-1):\n",
    "        x[1] = (-1.0 + x[0] + 2*x[n-1])/4.0\n",
    "    x[n-1] = (5.0 - x[0] + 2*x[1])/4.0 \n",
    "    \n",
    "    return x\n",
    "n = eval(input(\"Number of equations ==> \"))\n",
    "x = np.zeros(n)\n",
    "x,numIter = seidel(iterEqs,x)\n",
    "print(\"\\nNumber of iterations =\",numIter)\n",
    "# print(\"\\nRelaxation factor =\",omega)\n",
    "print(\"\\nThe solution is:\\n\",x)"
   ]
  },
  {
   "cell_type": "code",
   "execution_count": 4,
   "metadata": {},
   "outputs": [
    {
     "name": "stdout",
     "output_type": "stream",
     "text": [
      "Number of equations ==> 4\n",
      "\n",
      "The solution is:\n",
      " [ 3.62553154e-05  9.75098015e-03  3.18655876e-01 -1.43575048e-01]\n",
      "\n",
      "Number of iterations = 3\n"
     ]
    }
   ],
   "source": [
    "# Konjugat Gradien\n",
    "# Example 2_18 halaman 97\n",
    "# Run the program with n = 20\n",
    "import numpy as np\n",
    "from conjGrad import *\n",
    "\n",
    "def Ax(v):\n",
    "    n = len(v)\n",
    "    Ax = np.zeros(n)\n",
    "    Ax[0] = 200.0*v[0] - 50*v[1]\n",
    "    Ax[1:n-1] = 50*v[0:n-2] + -125.0*v[1:n-1] + 75.0*v[2:n]\n",
    "    Ax[n-1] = -225*v[n-2] + 225.0*v[n-1] \n",
    "    return Ax\n",
    "\n",
    "n = eval(input(\"Number of equations ==> \"))\n",
    "b = np.zeros(n)\n",
    "b[n-1] = 1.0\n",
    "x = np.zeros(n)\n",
    "x,numIter = conjGrad(Ax,x,b)\n",
    "print(\"\\nThe solution is:\\n\",x)\n",
    "print(\"\\nNumber of iterations =\",numIter)"
   ]
  }
 ],
 "metadata": {
  "kernelspec": {
   "display_name": "Python 3",
   "language": "python",
   "name": "python3"
  },
  "language_info": {
   "codemirror_mode": {
    "name": "ipython",
    "version": 3
   },
   "file_extension": ".py",
   "mimetype": "text/x-python",
   "name": "python",
   "nbconvert_exporter": "python",
   "pygments_lexer": "ipython3",
   "version": "3.7.3"
  }
 },
 "nbformat": 4,
 "nbformat_minor": 2
}
