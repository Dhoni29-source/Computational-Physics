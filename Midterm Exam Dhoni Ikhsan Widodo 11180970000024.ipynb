{
 "cells": [
  {
   "cell_type": "markdown",
   "metadata": {},
   "source": [
    "# Computational Physics Lab Midterm Exam 2019/2020\n",
    "## Exam rules\n",
    "1. You must not communicate or attempt to communicate discussing topic related to exam's problem with anyone during the exam.\n",
    "2. You must not copy or attempt to copy from another student's work\n",
    "3. You may open your own e-book and your own made pyhon module to help you deliver your best answer.\n",
    "\n",
    "## Instruction\n",
    "Run the following code cell to fill your name, student number, and class base on your actual status then replace this notebook filename with your complete name without spaces."
   ]
  },
  {
   "cell_type": "code",
   "execution_count": 1,
   "metadata": {},
   "outputs": [
    {
     "name": "stdout",
     "output_type": "stream",
     "text": [
      "Input your name here: Dhoni Ikhsan Widodo\n",
      "Input your student number here: 11180970000024\n",
      "Input your class here: A\n",
      "\n",
      "My name is Dhoni Ikhsan Widodo, student number 11180970000024, I hereby declare myself that I have read the exam rules and I am intent to obey it. In any case during the exam I proved to violate the rules, I sincerely let my exam score be canceled.\n"
     ]
    }
   ],
   "source": [
    "name = input('Input your name here: ')\n",
    "nim = input('Input your student number here: ')\n",
    "clas = input('Input your class here: ')\n",
    "\n",
    "print('\\nMy name is ' + name + ', student number '+ nim +', I hereby declare myself that I have read the exam rules and I am intent to obey it. In any case during the exam I proved to violate the rules, I sincerely let my exam score be canceled.')"
   ]
  },
  {
   "attachments": {
    "Vm8kc1.png": {
     "image/png": "[encoded data removed]"
    }
   },
   "cell_type": "markdown",
   "metadata": {},
   "source": [
    "## Problem 1 (30)\n",
    "<div>\n",
    "<img src=\"attachment:Vm8kc1.png\" width=\"200\"/>\n",
    "</div>\n",
    "    \n",
    "Figure 1 shows an arrangement of four springs in series being depressed with a force of $F$. At equilibrium, force-balance equations can be developed defining the interrelationships between the springs. Write function to compute **x** with general value of spring constant $k_1,k_2,k_3,k_4$ and force $F$ using LU decomposition."
   ]
  },
  {
   "cell_type": "code",
   "execution_count": 2,
   "metadata": {},
   "outputs": [],
   "source": [
    "# Number 1\n",
    "# Ini jawaban untuk nomor 1\n",
    "#write your import module here\n",
    "import numpy as np\n",
    "from LUdecomp3 import *\n",
    "\n",
    "#write your code here\n",
    "def fourBalanceSpring(k1,k2,k3,k4,F):\n",
    "    d = np.array([(k1+k2), (k3+k2), (k3+k4), (k4)]) #diagonal tengah\n",
    "    c = np.array([k2,k3,k4]) #diagonal paling kiri\n",
    "    e = c.copy() #diagonal paling kanan\n",
    "    b = np.array([0.0, 0.0, 0.0, F])\n",
    "    c,d,e = LUdecomp3(c,d,e)\n",
    "    hasil = LUsolve3(c,d,e,b)\n",
    "    \n",
    "    return abs(hasil)"
   ]
  },
  {
   "cell_type": "code",
   "execution_count": 3,
   "metadata": {},
   "outputs": [
    {
     "name": "stdout",
     "output_type": "stream",
     "text": [
      "Hasil perhitungan menggunakan LUdecomp3: \n",
      "   x1         x2       x3         x4\n",
      "[1.33333333 5.33333333 8.         8.88888889]\n"
     ]
    }
   ],
   "source": [
    "#write code to validate your function in this cell\n",
    "print(\"Hasil perhitungan menggunakan LUdecomp3: \\n   x1         x2       x3         x4\")\n",
    "print(fourBalanceSpring(150.0,50.0,75.0,225.0,200.0))\n",
    "\n",
    "\n"
   ]
  },
  {
   "cell_type": "code",
   "execution_count": 4,
   "metadata": {},
   "outputs": [
    {
     "name": "stdout",
     "output_type": "stream",
     "text": [
      "my_matrix is:\n",
      " [[ 200.  -50.    0.    0.]\n",
      " [  50. -125.   75.    0.]\n",
      " [   0.   75. -300.  225.]\n",
      " [   0.    0. -225.  225.]]\n",
      "\n",
      "Hasil perhitungan menggunakan LUdecomp3: \n",
      "     x1         x2     x3         x4\n",
      "[1.33333333 5.33333333 8.         8.88888889]\n"
     ]
    }
   ],
   "source": [
    "# Ini bukan jawaban nomor 1, tapi hanya sebagai referensi lainnya untuk menyelesaikan problem 1.\n",
    "# jika konstanta pegas (K) di subtitusikan kedalam matrix\n",
    "# Hasil nya sama dengan cell yang atas\n",
    "# Jadi, jawaban nomor 1 nya sudah valid dan dapat dibuktikan dengan perhitungan manual\n",
    "\n",
    "import numpy as np\n",
    "from LUdecomp3 import *\n",
    "\n",
    "my_matrix = np.array([[200.0, -50, 0, 0], \\\n",
    "                      [50.0, -125.0, 75.0, 0.0], \\\n",
    "                      [0.0, 75.0, -300.0, 225], \\\n",
    "                      [0.0, 0.0, -225.0, 225.0]])\n",
    "\n",
    "def fourBalanceSpring():\n",
    "    d = np.array([200.0, -125.0, -300.0, 225.0]) #diagonal tengah\n",
    "    c = np.array([50.0, 75.0, -225.0]) #diagonal paling kiri\n",
    "    e = np.array([-50.0, 75.0, 225.0]) #diagonal paling kanan\n",
    "    b = np.array([0.0, 0.0, 0.0, 200.0])\n",
    "    c,d,e = LUdecomp3(c,d,e)\n",
    "    hasil = LUsolve3(c,d,e,b)\n",
    "    \n",
    "    return hasil\n",
    "print(\"my_matrix is:\\n\",my_matrix)\n",
    "print('\\nHasil perhitungan menggunakan LUdecomp3: \\n     x1         x2     x3         x4')\n",
    "print(fourBalanceSpring())"
   ]
  },
  {
   "cell_type": "markdown",
   "metadata": {},
   "source": [
    "## Problem 2 (30)\n",
    "\n",
    "Compute **x** given in problem 1 using Conjugate Gradient and Gauss-Seidel method with zeros initial guess and tolarance value of $10^{-6}$."
   ]
  },
  {
   "cell_type": "code",
   "execution_count": 5,
   "metadata": {},
   "outputs": [
    {
     "name": "stdout",
     "output_type": "stream",
     "text": [
      "\n",
      "Number of equation = 4 because my_matrix has 4 order\n",
      "Number of equations ==> 4\n",
      "my_matrix is:\n",
      " [[ 200.  -50.    0.    0.]\n",
      " [  50. -125.   75.    0.]\n",
      " [   0.   75. -300.  225.]\n",
      " [   0.    0. -225.  225.]]\n",
      "\n",
      "This is solution with conjugate Gradien methods to calculate my_matrix \n",
      "\n",
      "The solution is:\n",
      " [  0.          -0.38675497 -25.56644592  31.09639441]\n"
     ]
    }
   ],
   "source": [
    "#cell for conjugate gradient\n",
    "import numpy as np\n",
    "import math\n",
    "from conjGrad import *\n",
    "\n",
    "my_matrix = np.array([[200.0, -50, 0, 0], \\\n",
    "                      [50.0, -125.0, 75.0, 0.0], \\\n",
    "                      [0.0, 75.0, -300.0, 225], \\\n",
    "                      [0.0, 0.0, -225.0, 225.0]])\n",
    "\n",
    "print(\"\\nNumber of equation = 4 because my_matrix has 4 order\")\n",
    "b = np.array([0.0, 0.0, 0.0, 200.0])\n",
    "k = eval(input(\"Number of equations ==> \"))\n",
    "i = np.zeros(k)\n",
    "j = conjGrad(my_matrix,i,b,k)\n",
    "np.set_printoptions(suppress=True)\n",
    "\n",
    "print(\"my_matrix is:\\n\",my_matrix)\n",
    "print(\"\\nThis is solution with conjugate Gradien methods to calculate my_matrix \")\n",
    "print(\"\\nThe solution is:\\n\",j)"
   ]
  },
  {
   "cell_type": "code",
   "execution_count": 6,
   "metadata": {},
   "outputs": [
    {
     "name": "stdout",
     "output_type": "stream",
     "text": [
      "\n",
      "Number of equation = 4 because my_matrix has 4 order\n",
      "Number of equations ==> 4\n",
      "my_matrix is:\n",
      " [[ 200.  -50.    0.    0.]\n",
      " [  50. -125.   75.    0.]\n",
      " [   0.   75. -300.  225.]\n",
      " [   0.    0. -225.  225.]]\n",
      "\n",
      "Number of iterations = 165\n",
      "\n",
      "Relaxation factor = 1.0\n",
      "\n",
      "This is solution with Gauss-Seidel methods to calculate my_matrix \n",
      "\n",
      "The solution is:\n",
      " [1.33333197 5.33332833 7.99999318 8.88888207]\n"
     ]
    }
   ],
   "source": [
    "#cell for gauss-seidel\n",
    "import numpy as np\n",
    "import math\n",
    "from gaussSeidel import *\n",
    "\n",
    "def iterEqs(x,omega):\n",
    "    n = len(x)\n",
    "    x[0] = (-1/200)*omega*(-50*x[1]) + (1.0 - omega)*x[0]\n",
    "    x[n-3] = (1/125)*omega*(50*x[0] + 75*x[n-2]) + (1.0 - omega)*x[n-3]\n",
    "    x[n-2] = (1/300)*omega*(75*x[1] +  225*x[n-1]) + (1.0 - omega)*x[n-2]\n",
    "    x[n-1] = (1/225)*omega*(200.0 + 225*x[n-2]) + (1.0 - omega)*x[n-1]\n",
    "    return x\n",
    "\n",
    "my_matrix = np.array([[200.0, -50, 0, 0], \\\n",
    "                      [50.0, -125.0, 75.0, 0.0], \\\n",
    "                      [0.0, 75.0, -300.0, 225], \\\n",
    "                      [0.0, 0.0, -225.0, 225.0]])\n",
    "\n",
    "print(\"\\nNumber of equation = 4 because my_matrix has 4 order\")\n",
    "n = eval(input(\"Number of equations ==> \"))\n",
    "y = np.zeros(n)\n",
    "y,numIter,omega = gaussSeidel(iterEqs,y)\n",
    "\n",
    "print(\"my_matrix is:\\n\",my_matrix)\n",
    "print(\"\\nNumber of iterations =\",numIter)\n",
    "print(\"\\nRelaxation factor =\",omega)\n",
    "print(\"\\nThis is solution with Gauss-Seidel methods to calculate my_matrix \")\n",
    "print(\"\\nThe solution is:\\n\",y)"
   ]
  },
  {
   "cell_type": "markdown",
   "metadata": {},
   "source": [
    "## Problem 3 (25)\n",
    "\n",
    "|x|-2|1|4|-1|3|-4|\n",
    "|-|-|-|-|-|-|-|\n",
    "|y|-1|2|59|4|24|-53|\n",
    "\n",
    "The points on previous Table lie on a polynomial. Do the polynomial interpolation to those points and plot the result."
   ]
  },
  {
   "cell_type": "code",
   "execution_count": 1,
   "metadata": {},
   "outputs": [
    {
     "name": "stdout",
     "output_type": "stream",
     "text": [
      "Input degree of polynomial = 5 for the best result\n",
      "\n",
      "Degree of polynomial ==> 5\n",
      "\n",
      "by using the newton's polynomial we can find the values of x and y from the data we have:\n",
      "\n",
      "data x           data y\n",
      "_________________________\n",
      "-5.0           -112.00000\n",
      "-4.5            -79.12500\n",
      "-4.0            -53.00000\n",
      "-3.5            -32.87500\n",
      "-3.0            -18.00000\n",
      "-2.5             -7.62500\n",
      "-2.0             -1.00000\n",
      "-1.5              2.62500\n",
      "-1.0              4.00000\n",
      "-0.5              3.87500\n",
      "0.0              3.00000\n",
      "0.5              2.12500\n",
      "1.0              2.00000\n",
      "1.5              3.37500\n",
      "2.0              7.00000\n",
      "2.5             13.62500\n",
      "3.0             24.00000\n",
      "3.5             38.87500\n",
      "4.0             59.00000\n",
      "4.5             85.12500\n",
      "5.0            118.00000\n",
      "\n",
      "then, it's just a fitting from our data\n"
     ]
    },
    {
     "data": {
      "text/plain": [
       "<Figure size 640x480 with 1 Axes>"
      ]
     },
     "metadata": {},
     "output_type": "display_data"
    },
    {
     "data": {
      "text/plain": [
       "<Figure size 640x480 with 1 Axes>"
      ]
     },
     "metadata": {},
     "output_type": "display_data"
    },
    {
     "name": "stdout",
     "output_type": "stream",
     "text": [
      "None\n",
      "None\n"
     ]
    }
   ],
   "source": [
    "# Number 3\n",
    "#import your modul here\n",
    "import numpy as np\n",
    "import math\n",
    "from newtonPoly import *\n",
    "from plotPoly import *\n",
    "from polyFit import *\n",
    "\n",
    "#import your code here\n",
    "# Rules to execute the program with the best result\n",
    "print(\"Input degree of polynomial = 5 for the best result\")\n",
    "m = eval(input(\"\\nDegree of polynomial ==> \"))\n",
    "print('') #Just space to other line\n",
    "print(\"by using the newton's polynomial we can find the values of x and y from the data we have:\\n\")\n",
    "x_data = np.array([-2.0,1.0,4.0,-1.0,3.0,-4.0])\n",
    "y_data = np.array([-1.0,2.0,59.0,4.0,24.0,-53.0])\n",
    "\n",
    "\n",
    "def find_data():\n",
    "    coefficient = polyFit(x_data,y_data,m)\n",
    "    a = coeffts(x_data,y_data)\n",
    "    print(\"data x           data y\") \n",
    "    print(25*\"_\")\n",
    "    for x in np.arange(-5.0,5.5,0.5): \n",
    "        y = evalPoly(a,x_data,x)\n",
    "        print('{:3.1f} {:20.5f}'.format(x,y))\n",
    "        \n",
    "    print(\"\\nthen, it's just a fitting from our data\")\n",
    "    print(plotPoly(x_data,y_data,coefficient))\n",
    "    \n",
    "print(find_data())"
   ]
  },
  {
   "cell_type": "markdown",
   "metadata": {},
   "source": [
    "## Problem 4 (25)\n",
    "\n",
    "Fit the 6-order polynomial function to the following data and compute the standard deviation.\n",
    "\n",
    "|x|0.5|1.0|1.5|2.0|2.5|\n",
    "|-|-|-|-|-|-|\n",
    "|y|0.541|0.398|0.232|0.106|0.052|"
   ]
  },
  {
   "cell_type": "code",
   "execution_count": 9,
   "metadata": {},
   "outputs": [
    {
     "name": "stdout",
     "output_type": "stream",
     "text": [
      "Input degree of polynomial = 1\n",
      "Then, tap enter to see the result\n",
      "\n",
      "Degree of polynomial ==> 1\n",
      "Coefficients are:\n",
      " [ 0.6468 -0.254 ]\n",
      "Std. deviation = 0.03790690350494661\n",
      "\n",
      "Degree of polynomial ==> \n"
     ]
    },
    {
     "data": {
      "image/png": "[encoded data removed]",
      "text/plain": [
       "<Figure size 432x288 with 1 Axes>"
      ]
     },
     "metadata": {
      "needs_background": "light"
     },
     "output_type": "display_data"
    },
    {
     "data": {
      "image/png": "[encoded data removed]",
      "text/plain": [
       "<Figure size 432x288 with 1 Axes>"
      ]
     },
     "metadata": {
      "needs_background": "light"
     },
     "output_type": "display_data"
    },
    {
     "name": "stdout",
     "output_type": "stream",
     "text": [
      "None\n"
     ]
    }
   ],
   "source": [
    "# Number 4\n",
    "# we use least square fit \n",
    "# To find standar deviation using polyFit function\n",
    "# To plotting data using plotPoly function\n",
    "\n",
    "# impport modul here\n",
    "import numpy as np\n",
    "from polyFit import *\n",
    "from plotPoly import *\n",
    "\n",
    "# Just rules to execute the program\n",
    "print(\"Input degree of polynomial = 1\")\n",
    "print(\"Then, tap enter to see the result\")\n",
    "\n",
    "# Find standar deviation\n",
    "x_data = np.array([0.5,1.0,1.5,2.0,2.5])\n",
    "y_data = np.array([0.541,0.398,0.232,0.106,0.052])\n",
    "while True:\n",
    "    try:\n",
    "        m = eval(input(\"\\nDegree of polynomial ==> \"))\n",
    "        coeff = polyFit(x_data,y_data,m)\n",
    "        print(\"Coefficients are:\\n\",coeff)\n",
    "        print(\"Std. deviation =\",stdDev(coeff,x_data,y_data))\n",
    "    except SyntaxError: break\n",
    "        \n",
    "# Plot/Fitting data\n",
    "print(plotPoly(x_data,y_data,coeff))"
   ]
  },
  {
   "cell_type": "code",
   "execution_count": 10,
   "metadata": {},
   "outputs": [
    {
     "name": "stdout",
     "output_type": "stream",
     "text": [
      "Input degree of polynomial = 1\n",
      "Then, type 'break' to see the result\n",
      "\n",
      "Degree of polynomial ==> 1\n",
      "Coefficients are:\n",
      " [ 0.6468 -0.254 ]\n",
      "Std. deviation = 0.03790690350494661\n",
      "\n",
      "Degree of polynomial ==> \n"
     ]
    },
    {
     "data": {
      "image/png": "[encoded data removed]",
      "text/plain": [
       "<Figure size 432x288 with 1 Axes>"
      ]
     },
     "metadata": {
      "needs_background": "light"
     },
     "output_type": "display_data"
    }
   ],
   "source": [
    "# Code lainnya untuk menyelesaikan problem 4\n",
    "# kita dapat mencari standar deviasi dengan polyFit function \n",
    "# dan meplotting/fitting data nya dengan neville, lalu membandingkan nya dengan rational function \n",
    "# grafik nya sama dengan cell diatas\n",
    "# Jadi, jawaban nomor 4 nya sudah valid dan dapat dibuktikan dengan menggunakan neville, rational ataupun least square\n",
    "\n",
    "import numpy as np\n",
    "from rational import *\n",
    "from neville import *\n",
    "from newtonPoly import *\n",
    "from polyFit import *\n",
    "from plotPoly import *\n",
    "import matplotlib.pyplot as plt\n",
    "\n",
    "\n",
    "# Just rules to execute the program\n",
    "print(\"Input degree of polynomial = 1\")\n",
    "print(\"Then, type 'break' to see the result\")\n",
    "\n",
    "# Find standart deviation\n",
    "x_data = np.array([0.5,1.0,1.5,2.0,2.5])\n",
    "y_data = np.array([0.541,0.398,0.232,0.106,0.052])\n",
    "while True:\n",
    "    try:\n",
    "        m = eval(input(\"\\nDegree of polynomial ==> \"))\n",
    "        coeff = polyFit(x_data,y_data,m)\n",
    "        print(\"Coefficients are:\\n\",coeff)\n",
    "        print(\"Std. deviation =\",stdDev(coeff,x_data,y_data))\n",
    "    except SyntaxError: break\n",
    "        \n",
    "# Plotting with neville and compare with rational line \n",
    "x = np.arange(0.5,3.0,0.5)\n",
    "n = len(x)\n",
    "y = np.zeros((n,2))\n",
    "for i in range(n):\n",
    "    y[i,0] = rational(x_data,y_data,x[i])\n",
    "    y[i,1] = neville(x_data,y_data,x[i])\n",
    "    \n",
    "plt.plot(x_data,y_data,'o',x,y[:,0],'-',x,y[:,1],'--')\n",
    "plt.title('Fitting data with neville and rational function ', size=15)\n",
    "plt.xlabel('data x', size=15)\n",
    "plt.ylabel('data y', size=15)\n",
    "plt.grid()\n",
    "plt.legend(('Data','Rational','Neville'),loc = 0)\n",
    "plt.show()"
   ]
  },
  {
   "cell_type": "code",
   "execution_count": null,
   "metadata": {},
   "outputs": [],
   "source": []
  }
 ],
 "metadata": {
  "kernelspec": {
   "display_name": "Python 3",
   "language": "python",
   "name": "python3"
  },
  "language_info": {
   "codemirror_mode": {
    "name": "ipython",
    "version": 3
   },
   "file_extension": ".py",
   "mimetype": "text/x-python",
   "name": "python",
   "nbconvert_exporter": "python",
   "pygments_lexer": "ipython3",
   "version": "3.7.3"
  }
 },
 "nbformat": 4,
 "nbformat_minor": 4
}
